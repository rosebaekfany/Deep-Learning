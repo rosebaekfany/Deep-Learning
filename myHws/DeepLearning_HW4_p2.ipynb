{
  "cells": [
    {
      "cell_type": "markdown",
      "metadata": {
        "id": "w_a3OXnSeV0z"
      },
      "source": [
        "\n",
        "<br>\n",
        "<font>\n",
        "<div dir=ltr align=center>\n",
        "<font color=0F5298 size=10>\n",
        "    Deep Learning - HW4 <br>\n",
        "<font color=2565AE size=5>\n",
        "    Electrical Engineering Department <br>\n",
        "    winter 2024<br>\n",
        "<font color=3C99D size=5>\n",
        "    Practical Assignment 2 <br>\n",
        "<font color=696880 size=4>\n",
        "    Armin Ghojehzadeh\n",
        "\n",
        "____"
      ]
    },
    {
      "cell_type": "markdown",
      "metadata": {
        "id": "jeIaVc2Jn0Y9"
      },
      "source": [
        "# 🔴 **Import Libs**"
      ]
    },
    {
      "cell_type": "code",
      "execution_count": 3,
      "metadata": {
        "colab": {
          "base_uri": "https://localhost:8080/"
        },
        "id": "uy8RtrqRn3eZ",
        "outputId": "daba0727-9428-4af1-d739-640c824525b0"
      },
      "outputs": [
        {
          "name": "stdout",
          "output_type": "stream",
          "text": [
            "Requirement already satisfied: torch==1.13.0 in /usr/local/lib/python3.10/dist-packages (1.13.0)\n",
            "Collecting torchtext==0.14.0\n",
            "  Downloading torchtext-0.14.0-cp310-cp310-manylinux1_x86_64.whl.metadata (6.9 kB)\n",
            "Requirement already satisfied: typing-extensions in /usr/local/lib/python3.10/dist-packages (from torch==1.13.0) (4.12.2)\n",
            "Requirement already satisfied: nvidia-cuda-runtime-cu11==11.7.99 in /usr/local/lib/python3.10/dist-packages (from torch==1.13.0) (11.7.99)\n",
            "Requirement already satisfied: nvidia-cudnn-cu11==8.5.0.96 in /usr/local/lib/python3.10/dist-packages (from torch==1.13.0) (8.5.0.96)\n",
            "Requirement already satisfied: nvidia-cublas-cu11==11.10.3.66 in /usr/local/lib/python3.10/dist-packages (from torch==1.13.0) (11.10.3.66)\n",
            "Requirement already satisfied: nvidia-cuda-nvrtc-cu11==11.7.99 in /usr/local/lib/python3.10/dist-packages (from torch==1.13.0) (11.7.99)\n",
            "Requirement already satisfied: tqdm in /usr/local/lib/python3.10/dist-packages (from torchtext==0.14.0) (4.67.1)\n",
            "Requirement already satisfied: requests in /usr/local/lib/python3.10/dist-packages (from torchtext==0.14.0) (2.32.3)\n",
            "Requirement already satisfied: numpy in /usr/local/lib/python3.10/dist-packages (from torchtext==0.14.0) (1.26.4)\n",
            "Requirement already satisfied: setuptools in /usr/local/lib/python3.10/dist-packages (from nvidia-cublas-cu11==11.10.3.66->torch==1.13.0) (75.1.0)\n",
            "Requirement already satisfied: wheel in /usr/local/lib/python3.10/dist-packages (from nvidia-cublas-cu11==11.10.3.66->torch==1.13.0) (0.45.1)\n",
            "Requirement already satisfied: charset-normalizer<4,>=2 in /usr/local/lib/python3.10/dist-packages (from requests->torchtext==0.14.0) (3.4.0)\n",
            "Requirement already satisfied: idna<4,>=2.5 in /usr/local/lib/python3.10/dist-packages (from requests->torchtext==0.14.0) (3.10)\n",
            "Requirement already satisfied: urllib3<3,>=1.21.1 in /usr/local/lib/python3.10/dist-packages (from requests->torchtext==0.14.0) (2.2.3)\n",
            "Requirement already satisfied: certifi>=2017.4.17 in /usr/local/lib/python3.10/dist-packages (from requests->torchtext==0.14.0) (2024.12.14)\n",
            "Downloading torchtext-0.14.0-cp310-cp310-manylinux1_x86_64.whl (2.0 MB)\n",
            "\u001b[2K   \u001b[90m━━━━━━━━━━━━━━━━━━━━━━━━━━━━━━━━━━━━━━━━\u001b[0m \u001b[32m2.0/2.0 MB\u001b[0m \u001b[31m46.0 MB/s\u001b[0m eta \u001b[36m0:00:00\u001b[0m\n",
            "\u001b[?25hInstalling collected packages: torchtext\n",
            "Successfully installed torchtext-0.14.0\n"
          ]
        }
      ],
      "source": [
        "!pip install torch==1.13.0 torchtext==0.14.0"
      ]
    },
    {
      "cell_type": "code",
      "execution_count": 43,
      "metadata": {
        "id": "vhlVJEkJeTsV"
      },
      "outputs": [],
      "source": [
        "import numpy as np\n",
        "import matplotlib.pyplot as plt\n",
        "import numpy as np\n",
        "import pandas as pd\n",
        "from torch.optim import SGD\n",
        "import torchtext\n",
        "\n",
        "import torch\n",
        "from torch import nn\n",
        "from torch.utils.data import DataLoader, Dataset\n",
        "from torch.utils.data import DataLoader\n",
        "from torch import optim\n",
        "from torch.nn import functional as F\n",
        "\n",
        "import tqdm\n",
        "# import torchmetrics as tm\n",
        "from torchtext.datasets import WikiText2\n",
        "from torchtext.data.utils import get_tokenizer\n",
        "from torchtext.vocab import build_vocab_from_iterator\n",
        "from collections import Counter\n",
        "import torch\n",
        "import torch.nn as nn\n",
        "import torch.optim as optim\n"
      ]
    },
    {
      "cell_type": "code",
      "execution_count": 5,
      "metadata": {
        "colab": {
          "base_uri": "https://localhost:8080/"
        },
        "id": "DEzYlyeqTZqQ",
        "outputId": "7ccd2cac-d473-4b6c-86b7-790da766b61b"
      },
      "outputs": [
        {
          "name": "stdout",
          "output_type": "stream",
          "text": [
            "Python 3.10.12\n",
            "1.13.0+cu117\n",
            "0.14.0\n"
          ]
        }
      ],
      "source": [
        "!python --version\n",
        "print(torch.__version__)\n",
        "print(torchtext.__version__)"
      ]
    },
    {
      "cell_type": "code",
      "execution_count": 6,
      "metadata": {
        "colab": {
          "base_uri": "https://localhost:8080/"
        },
        "id": "6DWjGTq6T8Jg",
        "outputId": "92e7fff7-89cc-4c9d-89c7-962ca24f2e95"
      },
      "outputs": [
        {
          "name": "stdout",
          "output_type": "stream",
          "text": [
            "numpy --> 1.26.4\n",
            "torch --> 1.13.0+cu117\n",
            "torchtext --> 0.14.0\n",
            "tqdm --> 4.67.1\n"
          ]
        }
      ],
      "source": [
        "for lib in [np, torch, torchtext, tqdm]:\n",
        "  print(lib.__name__, '-->', lib.__version__)"
      ]
    },
    {
      "cell_type": "markdown",
      "metadata": {
        "id": "RwaY_YcgRayy"
      },
      "source": [
        "# 🔴 **Utils**"
      ]
    },
    {
      "cell_type": "code",
      "execution_count": 7,
      "metadata": {
        "id": "8yMS7bbmRayz"
      },
      "outputs": [],
      "source": [
        "class AverageMeter(object):\n",
        "    \"\"\"Computes and stores the average and current value\"\"\"\n",
        "    def __init__(self):\n",
        "        self.reset()\n",
        "\n",
        "    def reset(self):\n",
        "        self.val = 0\n",
        "        self.avg = 0\n",
        "        self.sum = 0\n",
        "        self.count = 0\n",
        "\n",
        "    def update(self, val, n=1):\n",
        "        self.val = val\n",
        "        self.sum += val * n\n",
        "        self.count += n\n",
        "        self.avg = self.sum / self.count"
      ]
    },
    {
      "cell_type": "code",
      "execution_count": 8,
      "metadata": {
        "id": "PpKbTUEIRayz"
      },
      "outputs": [],
      "source": [
        "def num_trainable_params(model):\n",
        "  nums = sum(p.numel() for p in model.parameters() if p.requires_grad)/1e6\n",
        "  return nums"
      ]
    },
    {
      "cell_type": "markdown",
      "metadata": {
        "id": "RTql4Ftiunfr"
      },
      "source": [
        "# 🔴 **Dataset**"
      ]
    },
    {
      "cell_type": "markdown",
      "metadata": {
        "id": "ujIVtjsYvxOI"
      },
      "source": [
        "## 🟠 **Load the Dataset**"
      ]
    },
    {
      "cell_type": "markdown",
      "metadata": {
        "id": "Ek9DpCNCChzF"
      },
      "source": [
        "🔰 In this session you should load WikiText2 dataset."
      ]
    },
    {
      "cell_type": "code",
      "execution_count": 11,
      "metadata": {
        "colab": {
          "base_uri": "https://localhost:8080/",
          "height": 608,
          "referenced_widgets": [
            "77f8b8af6f794c6ba168fde81c2fa276",
            "a38912b8c7894fd5820ebb332f7e5f9a",
            "f5f2147defc9454fb7b82ca5e397e47b",
            "e81859fad9d54c279248c6eed1201bc8",
            "112482c69009486680eb018cd352e1ce",
            "cab3d91830704ed0b132f3a9aeec6b48",
            "6afdf5af7ba64ac58881b911e2af1806",
            "a6d2d6a7f4624b2792480053af977834",
            "3f3f8ce68b1247bbb2af1ef8b1cf04db",
            "551e7041dd514a85b0c354ad9142e871",
            "a980a801ed7c4687814b913a767c8642",
            "320174435e6349579a7081e2a45dadff",
            "745dcc46b1f04a268b2c98d07a1b7378",
            "f37e850073c348209435df8a536b2c80",
            "14123aef5e75492c8a83c258478210f7",
            "86935b37223c4617b363ea3573d5e4c3",
            "af60ce07b12141198dcd346e2e4d73de",
            "7684087563e5481d90fa6a7a12ee9fbf",
            "9db5367242e7443498020f1bd4f47b90",
            "b75605b7d13c4072a55432cc9748fb17",
            "36df5adf0e2c4babbad741681f678114",
            "84c7701a039f413b88df79444be4e93f",
            "e43825e1770c4fee9f7f460ac1f2c29b",
            "37bf8cbb4b77495b9cecd164135603bf",
            "9d030c98567e427b8253e048133e4988",
            "f5675e7be1834f9c906261d343b099ec",
            "2998863008ab47199b1d03b753a61d3d",
            "c850e5fef03a4e13868b882eaf1da27f",
            "4e040134604b45798bb913f4e65a54a5",
            "350e58add1e1441cbfab4a8feaf837b1",
            "6ad4fdcb18fd4c1c80b6cb98f0f5cd82",
            "5bc84dae805b4faa9e47fa13b2941873",
            "0de2c36efd354cb098436c7cd2d7c576",
            "88248cde031344fbaca4819504efd897",
            "e0d4d50238ad4f9399b08324e86fc1db",
            "da3124286d7941c1806254b6e6523d4c",
            "02b096010ea94dd4b4f3bd30b9e6d264",
            "8b3f81ad55b84ca5bb9f23eff481547e",
            "a87071aa91664438944d5af29808c17f",
            "97730cf79fd54ebc8e168ffad3c93b1c",
            "a09b5fdbd49a4c5ebd28cdb630a6a397",
            "dc19f5d23f8b41c8b6b1b3f552fadbd9",
            "3fdaac6cb07046d88340ac3a1f14105a",
            "797a9b721bfc4390ad0ed1124c615d28",
            "af43b17a19504f698832081000df6ace",
            "4e862d18a8d84ed88992b88405785e71",
            "1f63134a8b8c43b4903e451294d49346",
            "b06dda4447194766b4283ee30d484a63",
            "c364f07ae0a34bef9f2ecc96f772282d",
            "a63a6d974680454aa4c147b3ed9ca9bf",
            "c4a8f54f1b7f498c96ee4f078a7b5008",
            "62b3918aa94a4f399bac047097fcdea8",
            "edc5e19256d748af8c91cb22f7532e42",
            "ecfa4a297cfa4b23bad0ef796cfd69c6",
            "8bdb548d82394bf691cd2e3b2cfc3072",
            "8c9ce3332c08416bbb0fb59087899315",
            "8317c3604d81471cbc1cb99abcecc8a9",
            "70f178cdb2734733aa8d1efd1bd44be0",
            "f5867cbe94a64ee6b964b00f2218b1d4",
            "2ac20bd064044810a05051dbc134630a",
            "bc1536617bb94d369a0d0e46091f03c5",
            "035bed0d0620420ba1dfb8f1e5f358db",
            "9e732a02671f4edea940ba1706a77da8",
            "576cf7c77e174e758c8dc3e96bc71210",
            "ef1e1c29070f4cbe89524a9dccae258a",
            "64d0df5bac444529833be96361cb90e0",
            "da67b0d324e24426bd550da019aee4e0",
            "c4983d1f02fb47fdbc6cf4330065c436",
            "9dbbd8f48e674f389c8f92be86044b35",
            "650f889f6efb417f8437af8735f2c067",
            "96e4cbb0e9a04f328a3e82194ab36404",
            "a456d22298874f8f84c5d0e3ca5d59ee",
            "d534511a8813427b83646befdf581d41",
            "baa1a914944449c3b7b38fad52af4edf",
            "a4d1cfb9583644f79a2a305cdc6a50be",
            "45c4829c794641559798440fcffca0e0",
            "6d77395fd9d246a098fdca4c77d93302"
          ]
        },
        "id": "qqfrevrctk0j",
        "outputId": "c434cdc4-22c7-4529-d3de-b025a139fe1e"
      },
      "outputs": [
        {
          "name": "stderr",
          "output_type": "stream",
          "text": [
            "/usr/local/lib/python3.10/dist-packages/huggingface_hub/utils/_auth.py:94: UserWarning: \n",
            "The secret `HF_TOKEN` does not exist in your Colab secrets.\n",
            "To authenticate with the Hugging Face Hub, create a token in your settings tab (https://huggingface.co/settings/tokens), set it as secret in your Google Colab and restart your session.\n",
            "You will be able to reuse this secret in all of your notebooks.\n",
            "Please note that authentication is recommended but still optional to access public models or datasets.\n",
            "  warnings.warn(\n"
          ]
        },
        {
          "data": {
            "application/vnd.jupyter.widget-view+json": {
              "model_id": "77f8b8af6f794c6ba168fde81c2fa276",
              "version_major": 2,
              "version_minor": 0
            },
            "text/plain": [
              "README.md:   0%|          | 0.00/10.5k [00:00<?, ?B/s]"
            ]
          },
          "metadata": {},
          "output_type": "display_data"
        },
        {
          "data": {
            "application/vnd.jupyter.widget-view+json": {
              "model_id": "320174435e6349579a7081e2a45dadff",
              "version_major": 2,
              "version_minor": 0
            },
            "text/plain": [
              "test-00000-of-00001.parquet:   0%|          | 0.00/685k [00:00<?, ?B/s]"
            ]
          },
          "metadata": {},
          "output_type": "display_data"
        },
        {
          "data": {
            "application/vnd.jupyter.widget-view+json": {
              "model_id": "e43825e1770c4fee9f7f460ac1f2c29b",
              "version_major": 2,
              "version_minor": 0
            },
            "text/plain": [
              "train-00000-of-00001.parquet:   0%|          | 0.00/6.07M [00:00<?, ?B/s]"
            ]
          },
          "metadata": {},
          "output_type": "display_data"
        },
        {
          "data": {
            "application/vnd.jupyter.widget-view+json": {
              "model_id": "88248cde031344fbaca4819504efd897",
              "version_major": 2,
              "version_minor": 0
            },
            "text/plain": [
              "validation-00000-of-00001.parquet:   0%|          | 0.00/618k [00:00<?, ?B/s]"
            ]
          },
          "metadata": {},
          "output_type": "display_data"
        },
        {
          "data": {
            "application/vnd.jupyter.widget-view+json": {
              "model_id": "af43b17a19504f698832081000df6ace",
              "version_major": 2,
              "version_minor": 0
            },
            "text/plain": [
              "Generating test split:   0%|          | 0/4358 [00:00<?, ? examples/s]"
            ]
          },
          "metadata": {},
          "output_type": "display_data"
        },
        {
          "data": {
            "application/vnd.jupyter.widget-view+json": {
              "model_id": "8c9ce3332c08416bbb0fb59087899315",
              "version_major": 2,
              "version_minor": 0
            },
            "text/plain": [
              "Generating train split:   0%|          | 0/36718 [00:00<?, ? examples/s]"
            ]
          },
          "metadata": {},
          "output_type": "display_data"
        },
        {
          "data": {
            "application/vnd.jupyter.widget-view+json": {
              "model_id": "da67b0d324e24426bd550da019aee4e0",
              "version_major": 2,
              "version_minor": 0
            },
            "text/plain": [
              "Generating validation split:   0%|          | 0/3760 [00:00<?, ? examples/s]"
            ]
          },
          "metadata": {},
          "output_type": "display_data"
        },
        {
          "name": "stdout",
          "output_type": "stream",
          "text": [
            "DatasetDict({\n",
            "    test: Dataset({\n",
            "        features: ['text'],\n",
            "        num_rows: 4358\n",
            "    })\n",
            "    train: Dataset({\n",
            "        features: ['text'],\n",
            "        num_rows: 36718\n",
            "    })\n",
            "    validation: Dataset({\n",
            "        features: ['text'],\n",
            "        num_rows: 3760\n",
            "    })\n",
            "})\n"
          ]
        }
      ],
      "source": [
        "from datasets import load_dataset\n",
        "\n",
        "wikitext2_dataset = load_dataset(\"wikitext\", \"wikitext-2-v1\")\n",
        "\n",
        "print(wikitext2_dataset)\n"
      ]
    },
    {
      "cell_type": "markdown",
      "metadata": {
        "id": "wCi-ofSLCzop"
      },
      "source": [
        "## 🟠 **Build vocabulary and save it**"
      ]
    },
    {
      "cell_type": "markdown",
      "metadata": {
        "id": "L02PHFuyNRb3"
      },
      "source": [
        "🔰 In this section we need to:\n",
        "\n",
        "*   Define a tokenizer using `basic_english`\n",
        "*   Tokenize the dataset and collect tokens\n",
        "*   Build the vocabulary using `build_vocab_from_iterator`\n",
        "*   Manually insert special tokens and set the default index\n"
      ]
    },
    {
      "cell_type": "code",
      "execution_count": 12,
      "metadata": {
        "colab": {
          "base_uri": "https://localhost:8080/"
        },
        "id": "dlJ6Q6xCVuf0",
        "outputId": "465abf54-bc41-4314-f76b-6ed9e901ec30"
      },
      "outputs": [
        {
          "name": "stdout",
          "output_type": "stream",
          "text": [
            "Vocabulary size: 28785\n",
            "Special tokens: ['<unk>', '<pad>', '<bos>', '<eos>']\n",
            "Tokenized sentence: ['this', 'is', 'an', 'example', 'sentence', 'for', 'testing', '.']\n",
            "Indexed sentence: [38, 26, 33, 620, 2131, 20, 3916, 6]\n"
          ]
        }
      ],
      "source": [
        "tokenizer = get_tokenizer(\"basic_english\")\n",
        "\n",
        "def yield_tokens(data_iter):\n",
        "    for text in data_iter:\n",
        "        yield tokenizer(text)\n",
        "\n",
        "from datasets import load_dataset\n",
        "wikitext2_dataset = load_dataset(\"wikitext\", \"wikitext-2-v1\")\n",
        "\n",
        "train_texts = wikitext2_dataset['train']['text']\n",
        "\n",
        "vocab = build_vocab_from_iterator(yield_tokens(train_texts), specials=[\"<unk>\", \"<pad>\", \"<bos>\", \"<eos>\"])\n",
        "\n",
        "vocab.set_default_index(vocab[\"<unk>\"])\n",
        "\n",
        "print(f\"Vocabulary size: {len(vocab)}\")\n",
        "print(f\"Special tokens: {vocab.get_itos()[:4]}\")\n",
        "\n",
        "example_sentence = \"This is an example sentence for testing.\"\n",
        "tokenized_sentence = tokenizer(example_sentence)\n",
        "indexed_sentence = vocab(tokenized_sentence)\n",
        "\n",
        "print(\"Tokenized sentence:\", tokenized_sentence)\n",
        "print(\"Indexed sentence:\", indexed_sentence)\n"
      ]
    },
    {
      "cell_type": "markdown",
      "metadata": {
        "id": "B29jrEvwRqXA"
      },
      "source": [
        "## 🟠 EDA"
      ]
    },
    {
      "cell_type": "markdown",
      "metadata": {
        "id": "pHtoYxEPd3bL"
      },
      "source": [
        "### 🟡 Let's explore the WikiText2 dataset!"
      ]
    },
    {
      "cell_type": "markdown",
      "metadata": {
        "id": "A3rnR739GbYb"
      },
      "source": [
        "### 🟡 Calculate basic statistics such as the number of documents, total words, average document length, etc."
      ]
    },
    {
      "cell_type": "code",
      "execution_count": 13,
      "metadata": {
        "colab": {
          "base_uri": "https://localhost:8080/"
        },
        "id": "jHVKeKwk2WaG",
        "outputId": "f8370116-9ceb-4ec5-e71f-d932e576e520"
      },
      "outputs": [
        {
          "name": "stdout",
          "output_type": "stream",
          "text": [
            "            Number of Documents  Total Words  Average Document Length  \\\n",
            "Train                     36718      2049990                55.830655   \n",
            "Validation                 3760       214417                57.025798   \n",
            "Test                       4358       241859                55.497705   \n",
            "\n",
            "            Max Document Length  Min Document Length  \n",
            "Train                       696                    0  \n",
            "Validation                  433                    0  \n",
            "Test                        478                    0  \n"
          ]
        }
      ],
      "source": [
        "train_texts = wikitext2_dataset['train']['text']\n",
        "validation_texts = wikitext2_dataset['validation']['text']\n",
        "test_texts = wikitext2_dataset['test']['text']\n",
        "\n",
        "def calculate_statistics(texts):\n",
        "    \"\"\"Calculate basic statistics for a dataset.\"\"\"\n",
        "    num_docs = len(texts)\n",
        "    doc_lengths = [len(tokenizer(text)) for text in texts]\n",
        "    total_words = sum(doc_lengths)\n",
        "    avg_doc_length = np.mean(doc_lengths)\n",
        "    max_doc_length = max(doc_lengths)\n",
        "    min_doc_length = min(doc_lengths)\n",
        "\n",
        "    return {\n",
        "        \"Number of Documents\": num_docs,\n",
        "        \"Total Words\": total_words,\n",
        "        \"Average Document Length\": avg_doc_length,\n",
        "        \"Max Document Length\": max_doc_length,\n",
        "        \"Min Document Length\": min_doc_length,\n",
        "    }\n",
        "\n",
        "train_stats = calculate_statistics(train_texts)\n",
        "validation_stats = calculate_statistics(validation_texts)\n",
        "test_stats = calculate_statistics(test_texts)\n",
        "\n",
        "stats_df = pd.DataFrame(\n",
        "    [train_stats, validation_stats, test_stats],\n",
        "    index=[\"Train\", \"Validation\", \"Test\"]\n",
        ")\n",
        "\n",
        "print(stats_df)"
      ]
    },
    {
      "cell_type": "markdown",
      "metadata": {
        "id": "a4HyLPqcsF43"
      },
      "source": [
        "### 🟡 Analyze the most common and least common words in the dataset."
      ]
    },
    {
      "cell_type": "code",
      "execution_count": 14,
      "metadata": {
        "colab": {
          "base_uri": "https://localhost:8080/"
        },
        "id": "cBnEjagdTN8n",
        "outputId": "475f2c73-9e03-4e16-af34-73d44af13e53"
      },
      "outputs": [
        {
          "name": "stdout",
          "output_type": "stream",
          "text": [
            "Most Common Words:\n",
            "the: 161565\n",
            ",: 124587\n",
            ".: 102203\n",
            "<unk>: 81561\n",
            "of: 69743\n",
            "and: 61962\n",
            "in: 54848\n",
            "to: 48462\n",
            "a: 44247\n",
            "=: 35977\n",
            "\n",
            "Least Common Words:\n",
            "gallinae: 3\n",
            "intergrades: 3\n",
            "tuscola: 3\n",
            "roundabouts: 3\n",
            "zoromski: 3\n",
            "forrester: 3\n",
            "kreutzer: 3\n",
            "chants: 3\n",
            "sonatine: 3\n",
            "mineurs: 3\n"
          ]
        }
      ],
      "source": [
        "def count_word_frequencies(texts):\n",
        "\n",
        "    word_counter = Counter()\n",
        "    for text in texts:\n",
        "        tokens = tokenizer(text)\n",
        "        word_counter.update(tokens)\n",
        "    return word_counter\n",
        "\n",
        "all_texts = train_texts + validation_texts + test_texts\n",
        "\n",
        "word_frequencies = count_word_frequencies(all_texts)\n",
        "\n",
        "most_common_words = word_frequencies.most_common(10)  # Top 10 most common\n",
        "least_common_words = word_frequencies.most_common()[:-11:-1]  # Bottom 10 least common\n",
        "\n",
        "print(\"Most Common Words:\")\n",
        "for word, freq in most_common_words:\n",
        "    print(f\"{word}: {freq}\")\n",
        "\n",
        "print(\"\\nLeast Common Words:\")\n",
        "for word, freq in least_common_words:\n",
        "    print(f\"{word}: {freq}\")\n"
      ]
    },
    {
      "cell_type": "markdown",
      "metadata": {
        "id": "cfBasjQCE_aI"
      },
      "source": [
        "### 🟡  Please proceed with further exploration of the dataset. what do you suggest?"
      ]
    },
    {
      "cell_type": "markdown",
      "metadata": {
        "id": "cQX7DPTUvdPa"
      },
      "source": [
        "uggestions for further exploration:\n",
        "\n",
        "N-Gram Analysis: Identify frequent bigrams and trigrams.\n",
        "\n",
        "Sentence Length Distribution: Visualize sentence lengths across the dataset.\n",
        "\n",
        "Rare Words: Analyze hapax legomena (words appearing only once).\n",
        "\n",
        "Vocabulary Coverage: Determine how many unique words cover 80% of the text.\n",
        "\n",
        "Dataset Comparison: Compare statistics between train, validation, and test.\n",
        "\n",
        "sentence lengths:"
      ]
    },
    {
      "cell_type": "code",
      "execution_count": 15,
      "metadata": {
        "colab": {
          "base_uri": "https://localhost:8080/",
          "height": 564
        },
        "id": "yR8uQsv4E_aJ",
        "outputId": "cb819cd7-2d27-4d5c-f8d4-9eac0054bcfe"
      },
      "outputs": [
        {
          "data": {
            "image/png": "[encoded data removed]",
            "text/plain": [
              "<Figure size 1000x600 with 1 Axes>"
            ]
          },
          "metadata": {},
          "output_type": "display_data"
        }
      ],
      "source": [
        "train_sentence_lengths = [len(tokenizer(text)) for text in train_texts]\n",
        "\n",
        "# Plot a histogram of sentence lengths\n",
        "plt.figure(figsize=(10, 6))\n",
        "plt.hist(train_sentence_lengths, bins=50, alpha=0.7, color='blue')\n",
        "plt.title(\"Sentence Length Distribution (Train Set)\")\n",
        "plt.xlabel(\"Sentence Length\")\n",
        "plt.ylabel(\"Frequency\")\n",
        "plt.show()"
      ]
    },
    {
      "cell_type": "markdown",
      "metadata": {
        "id": "idRexFij4wgN"
      },
      "source": [
        "## 🟠 Transform the data"
      ]
    },
    {
      "cell_type": "markdown",
      "metadata": {
        "id": "2VjvBOtvHu2v"
      },
      "source": [
        "🛑 Make sure to perform the transformations on train, validation and test datasets."
      ]
    },
    {
      "cell_type": "markdown",
      "metadata": {
        "id": "ApisIcGeGSsJ"
      },
      "source": [
        "🔰 Reshape the dataset into an `N x B x L` or `M x L` format, where `N` represents the number of batches, `B` is the batch size, `L` is the length of a sample within each batch, and `M` is equal to `N x B`."
      ]
    },
    {
      "cell_type": "code",
      "execution_count": 16,
      "metadata": {
        "id": "ocxM8YdsWH-1"
      },
      "outputs": [],
      "source": [
        "def data_process(raw_text_iter, batch_size, seq_len):\n",
        "\n",
        "    tokens = [token for text in raw_text_iter for token in tokenizer(text)]\n",
        "\n",
        "    token_indices = torch.tensor([vocab[token] for token in tokens], dtype=torch.long)\n",
        "\n",
        "    usable_size = (token_indices.size(0) - 1) // (batch_size * seq_len) * (batch_size * seq_len)\n",
        "    token_indices = token_indices[:usable_size + 1]\n",
        "    inputs = token_indices[:-1].view(batch_size, -1)  # Shape: (B, N * L)\n",
        "    targets = token_indices[1:].view(batch_size, -1)  # Shape: (B, N * L)\n",
        "\n",
        "    inputs = inputs.unfold(1, seq_len, seq_len).permute(1, 0, 2)  # Shape: (N, B, L)\n",
        "    targets = targets.unfold(1, seq_len, seq_len).permute(1, 0, 2)  # Shape: (N, B, L)\n",
        "\n",
        "    return inputs, targets\n"
      ]
    },
    {
      "cell_type": "code",
      "execution_count": 17,
      "metadata": {
        "colab": {
          "base_uri": "https://localhost:8080/"
        },
        "id": "4GndG2B0WPIb",
        "outputId": "899ff26d-1527-4fc8-af89-5b1e9b68b5e6"
      },
      "outputs": [
        {
          "name": "stdout",
          "output_type": "stream",
          "text": [
            "Train Inputs Shape: torch.Size([4003, 16, 32]), Train Targets Shape: torch.Size([4003, 16, 32])\n",
            "Validation Inputs Shape: torch.Size([418, 16, 32]), Validation Targets Shape: torch.Size([418, 16, 32])\n",
            "Test Inputs Shape: torch.Size([472, 16, 32]), Test Targets Shape: torch.Size([472, 16, 32])\n"
          ]
        }
      ],
      "source": [
        "batch_size = 16\n",
        "seq_len = 32\n",
        "train_inputs, train_targets = data_process(wikitext2_dataset['train']['text'], batch_size, seq_len)\n",
        "val_inputs, val_targets = data_process(wikitext2_dataset['validation']['text'], batch_size, seq_len)\n",
        "test_inputs, test_targets = data_process(wikitext2_dataset['test']['text'], batch_size, seq_len)\n",
        "\n",
        "print(f\"Train Inputs Shape: {train_inputs.shape}, Train Targets Shape: {train_targets.shape}\")\n",
        "print(f\"Validation Inputs Shape: {val_inputs.shape}, Validation Targets Shape: {val_targets.shape}\")\n",
        "print(f\"Test Inputs Shape: {test_inputs.shape}, Test Targets Shape: {test_targets.shape}\")"
      ]
    },
    {
      "cell_type": "markdown",
      "metadata": {
        "id": "PgLgP04P4-aX"
      },
      "source": [
        "## 🟠 Custom dataset"
      ]
    },
    {
      "cell_type": "markdown",
      "metadata": {
        "id": "XkxH_IR2PBNq"
      },
      "source": [
        "🔰 Write a custom dataset class for LanguageModelDataset."
      ]
    },
    {
      "cell_type": "code",
      "execution_count": 18,
      "metadata": {
        "id": "1cjpSkrtexap"
      },
      "outputs": [],
      "source": [
        "class LanguageModelDataset(Dataset):\n",
        "\n",
        "  def __init__(self, inputs, targets):\n",
        "        assert inputs.shape == targets.shape, \"Inputs and targets must have the same shape.\"\n",
        "        self.inputs = inputs\n",
        "        self.targets = targets\n",
        "\n",
        "  def __len__(self):\n",
        "\n",
        "        return self.inputs.size(0)\n",
        "\n",
        "  def __getitem__(self, idx):\n",
        "\n",
        "        return self.inputs[idx], self.targets[idx]\n"
      ]
    },
    {
      "cell_type": "code",
      "execution_count": 19,
      "metadata": {
        "id": "o0qUkL0CfQmr"
      },
      "outputs": [],
      "source": [
        "train_dataset = LanguageModelDataset(train_inputs, train_targets)\n",
        "val_dataset = LanguageModelDataset(val_inputs, val_targets)\n",
        "test_dataset = LanguageModelDataset(test_inputs, test_targets)"
      ]
    },
    {
      "cell_type": "markdown",
      "metadata": {
        "id": "NCQjacybOfqV"
      },
      "source": [
        "## 🟠 Define a dataloader if needed"
      ]
    },
    {
      "cell_type": "markdown",
      "metadata": {
        "id": "HqKMEyFNS-1a"
      },
      "source": [
        "🔰 Write dataloaders for the training, validation, and test sets."
      ]
    },
    {
      "cell_type": "code",
      "execution_count": 20,
      "metadata": {
        "colab": {
          "base_uri": "https://localhost:8080/"
        },
        "id": "KMCJ3UMD0U_f",
        "outputId": "b6d1f088-ccdc-4f8e-f2d5-28e6dbf10992"
      },
      "outputs": [
        {
          "name": "stdout",
          "output_type": "stream",
          "text": [
            "Batch Inputs Shape: torch.Size([16, 16, 32])\n",
            "Batch Targets Shape: torch.Size([16, 16, 32])\n"
          ]
        }
      ],
      "source": [
        "batch_size = 16\n",
        "train_loader = DataLoader(train_dataset, batch_size=batch_size, shuffle=True)\n",
        "val_loader = DataLoader(val_dataset, batch_size=batch_size, shuffle=False)\n",
        "test_loader = DataLoader(test_dataset, batch_size=batch_size, shuffle=False)\n",
        "\n",
        "# Example: Iterating over the DataLoader\n",
        "for batch_inputs, batch_targets in train_loader:\n",
        "    print(\"Batch Inputs Shape:\", batch_inputs.shape)\n",
        "    print(\"Batch Targets Shape:\", batch_targets.shape)\n",
        "    break"
      ]
    },
    {
      "cell_type": "markdown",
      "metadata": {
        "id": "3ttl0AK3Hvyh"
      },
      "source": [
        "# 🔴 **Model**"
      ]
    },
    {
      "cell_type": "markdown",
      "metadata": {
        "id": "06p-oBowTf-R"
      },
      "source": [
        "🔰 Use the following template to create a custom model.\n",
        "\n",
        "Your model should consist of three parts:\n",
        "\n",
        "*   an embedding layer\n",
        "*   an LSTM layer\n",
        "*   a fully connected layer"
      ]
    },
    {
      "cell_type": "code",
      "execution_count": 21,
      "metadata": {
        "id": "ISnnHE0BMVqp"
      },
      "outputs": [],
      "source": [
        "class LanguageModel(nn.Module):\n",
        "\n",
        "    def __init__(self, vocab_size, embedding_dim, hidden_dim, num_layers, dropout_rate):\n",
        "        super(LanguageModel, self).__init__()\n",
        "        self.embedding = nn.Embedding(vocab_size, embedding_dim)\n",
        "        self.lstm = nn.LSTM(\n",
        "            input_size=embedding_dim,\n",
        "            hidden_size=hidden_dim,\n",
        "            num_layers=num_layers,\n",
        "            dropout=dropout_rate,\n",
        "            batch_first=True,\n",
        "        )\n",
        "        self.fc = nn.Linear(hidden_dim, vocab_size)\n",
        "        self.dropout = nn.Dropout(dropout_rate)\n",
        "\n",
        "    def forward(self, src):\n",
        "\n",
        "        embedded = self.dropout(self.embedding(src))  # Shape: (B, L, embedding_dim)\n",
        "\n",
        "        lstm_out, _ = self.lstm(embedded)  # Shape: (B, L, hidden_dim)\n",
        "\n",
        "        output = self.fc(lstm_out)  # Shape: (B, L, vocab_size)\n",
        "\n",
        "        return output\n"
      ]
    },
    {
      "cell_type": "code",
      "execution_count": 22,
      "metadata": {
        "colab": {
          "base_uri": "https://localhost:8080/"
        },
        "id": "2MgBVzorb9oQ",
        "outputId": "b6ec7e20-0cf0-4878-aa71-1ffde2ace599"
      },
      "outputs": [
        {
          "name": "stdout",
          "output_type": "stream",
          "text": [
            "Output shape: torch.Size([16, 32, 28785])\n"
          ]
        }
      ],
      "source": [
        "vocab_size = len(vocab)\n",
        "embedding_dim = 128\n",
        "hidden_dim = 256\n",
        "num_layers = 2\n",
        "dropout_rate = 0.2\n",
        "\n",
        "model = LanguageModel(vocab_size, embedding_dim, hidden_dim, num_layers, dropout_rate)\n",
        "\n",
        "example_input = torch.randint(0, vocab_size, (16, 32))\n",
        "output = model(example_input)\n",
        "print(\"Output shape:\", output.shape)"
      ]
    },
    {
      "cell_type": "markdown",
      "metadata": {
        "id": "24qT-sgUO2-d"
      },
      "source": [
        "# 🔴 **Config**"
      ]
    },
    {
      "cell_type": "code",
      "execution_count": 23,
      "metadata": {
        "colab": {
          "base_uri": "https://localhost:8080/",
          "height": 36
        },
        "id": "Ma28M5Z36gsq",
        "outputId": "f793b730-3014-40a8-b902-840deff4a5f3"
      },
      "outputs": [
        {
          "data": {
            "application/vnd.google.colaboratory.intrinsic+json": {
              "type": "string"
            },
            "text/plain": [
              "'cuda'"
            ]
          },
          "execution_count": 23,
          "metadata": {},
          "output_type": "execute_result"
        }
      ],
      "source": [
        "device = 'cuda' if torch.cuda.is_available() else 'cpu'\n",
        "device"
      ]
    },
    {
      "cell_type": "markdown",
      "metadata": {
        "id": "bwYDJKjuduUT"
      },
      "source": [
        "🔰 Define the optimizer, loss function, metrics and other necessary parameters in this section, and ensure the model is sent to the appropriate device."
      ]
    },
    {
      "cell_type": "code",
      "execution_count": 25,
      "metadata": {
        "colab": {
          "base_uri": "https://localhost:8080/"
        },
        "id": "9ubk3xKaIG6i",
        "outputId": "01d36243-f4c2-4164-b455-2173ca21d384"
      },
      "outputs": [
        {
          "name": "stdout",
          "output_type": "stream",
          "text": [
            "Optimizer: Adam (\n",
            "Parameter Group 0\n",
            "    amsgrad: False\n",
            "    betas: (0.9, 0.999)\n",
            "    capturable: False\n",
            "    differentiable: False\n",
            "    eps: 1e-08\n",
            "    foreach: None\n",
            "    fused: False\n",
            "    lr: 0.001\n",
            "    maximize: False\n",
            "    weight_decay: 0\n",
            ")\n",
            "Loss function: CrossEntropyLoss()\n"
          ]
        }
      ],
      "source": [
        "learning_rate = 0.001\n",
        "optimizer = optim.Adam(model.parameters(), lr=learning_rate)\n",
        "criterion = nn.CrossEntropyLoss()\n",
        "\n",
        "model = model.to(device)\n",
        "criterion = criterion.to(device)\n",
        "\n",
        "num_epochs = 10\n",
        "\n",
        "def calculate_accuracy(predictions, targets):\n",
        "\n",
        "    _, predicted_indices = torch.max(predictions, dim=-1)\n",
        "    correct = (predicted_indices == targets).float().sum()\n",
        "    total = targets.numel()\n",
        "    return correct / total\n",
        "\n",
        "print(f\"Optimizer: {optimizer}\")\n",
        "print(f\"Loss function: {criterion}\")\n"
      ]
    },
    {
      "cell_type": "markdown",
      "metadata": {
        "id": "W0QNbC0YPCKZ"
      },
      "source": [
        "# 🔴 **Train ➰**"
      ]
    },
    {
      "cell_type": "markdown",
      "metadata": {
        "id": "yS6EF4HUhi5e"
      },
      "source": [
        "🔰 This is the template for train function, change it if needed."
      ]
    },
    {
      "cell_type": "code",
      "execution_count": 39,
      "metadata": {
        "id": "WniOAgk0QyRI"
      },
      "outputs": [],
      "source": [
        "import tqdm\n",
        "def train_one_epoch(model, train_loader, loss_fn, optimizer, metric, epoch=None):\n",
        "\n",
        "    model.train()\n",
        "    loss_train = AverageMeter()\n",
        "    metric.reset()\n",
        "    with tqdm.tqdm(train_loader, unit='batch') as tepoch:\n",
        "        for inputs, targets in tepoch:\n",
        "            if epoch:\n",
        "                tepoch.set_description(f\"Epoch {epoch}\")\n",
        "\n",
        "            inputs = inputs.permute(1, 0, 2).reshape(-1, inputs.size(-1)).to(device)  # (B, L)\n",
        "            targets = targets.permute(1, 0, 2).reshape(-1, targets.size(-1)).to(device)  # (B, L)\n",
        "\n",
        "            outputs = model(inputs)\n",
        "\n",
        "            loss = loss_fn(outputs.view(-1, outputs.size(-1)), targets.view(-1))\n",
        "\n",
        "            optimizer.zero_grad()\n",
        "            loss.backward()\n",
        "            optimizer.step()\n",
        "\n",
        "            loss_train.update(loss.item(), n=inputs.size(0))\n",
        "            metric.update(outputs, targets)\n",
        "            tepoch.set_postfix(loss=loss_train.avg, metric=metric.compute())\n",
        "\n",
        "    return model, loss_train.avg, metric.compute()\n"
      ]
    },
    {
      "cell_type": "markdown",
      "metadata": {
        "id": "G9HgVWslPGsH"
      },
      "source": [
        "# 🔴 **Evaluation**"
      ]
    },
    {
      "cell_type": "markdown",
      "metadata": {
        "id": "TsszJ7GVj2l3"
      },
      "source": [
        "🔰 This is the template for evaluation function, change it if needed."
      ]
    },
    {
      "cell_type": "code",
      "execution_count": 52,
      "metadata": {
        "id": "uV0_67_ZQ0xf"
      },
      "outputs": [],
      "source": [
        "def evaluate(model, test_loader, loss_fn, metric):\n",
        "\n",
        "    model.eval()\n",
        "    loss_eval = AverageMeter()\n",
        "    metric.reset()\n",
        "\n",
        "    with torch.inference_mode():\n",
        "        for inputs, targets in test_loader:\n",
        "\n",
        "            inputs = inputs.permute(1, 0, 2).reshape(-1, inputs.size(-1)).to(device)  # (B, L)\n",
        "            targets = targets.permute(1, 0, 2).reshape(-1, targets.size(-1)).to(device)  # (B, L)\n",
        "\n",
        "            outputs = model(inputs)\n",
        "\n",
        "            loss = loss_fn(outputs.view(-1, outputs.size(-1)), targets.view(-1))\n",
        "\n",
        "            loss_eval.update(loss.item(), n=inputs.size(0))\n",
        "            metric.update(outputs, targets)\n",
        "\n",
        "    return loss_eval.avg, metric.compute()\n"
      ]
    },
    {
      "cell_type": "markdown",
      "metadata": {
        "id": "o_5f69nwPtY2"
      },
      "source": [
        "# 🔴 **Training Process 〽️**"
      ]
    },
    {
      "cell_type": "markdown",
      "metadata": {
        "id": "De7VreNxQdct"
      },
      "source": [
        "## 🟠 Finding Hyper-parameters"
      ]
    },
    {
      "cell_type": "markdown",
      "metadata": {
        "id": "lpJ3wtyctQJH"
      },
      "source": [
        "### 🟡 **Step 1:** Calculate the loss for an untrained model using a few batches.\n"
      ]
    },
    {
      "cell_type": "code",
      "execution_count": 32,
      "metadata": {
        "colab": {
          "base_uri": "https://localhost:8080/"
        },
        "id": "QnE4F4GkzzaR",
        "outputId": "2279533e-7b17-4e2c-f938-76d290f7f0ca"
      },
      "outputs": [
        {
          "name": "stdout",
          "output_type": "stream",
          "text": [
            "Loss for untrained model: 10.2655\n"
          ]
        }
      ],
      "source": [
        "vocab_size = len(vocab)  # Size of the vocabulary\n",
        "embedding_dim = 128      # Size of embedding vectors\n",
        "hidden_dim = 256         # Number of hidden units in LSTM\n",
        "num_layers = 2           # Number of LSTM layers\n",
        "dropout_rate = 0.2\n",
        "\n",
        "model = LanguageModel(vocab_size, embedding_dim, hidden_dim, num_layers, dropout_rate).to(device)\n",
        "\n",
        "inputs, targets = next(iter(train_loader))\n",
        "inputs = inputs.permute(1, 0, 2).reshape(-1, inputs.size(-1)).to(device)\n",
        "targets = targets.permute(1, 0, 2).reshape(-1, targets.size(-1)).to(device)\n",
        "\n",
        "with torch.no_grad():\n",
        "    outputs = model(inputs)\n",
        "    loss = criterion(outputs.view(-1, vocab_size), targets.view(-1))\n",
        "\n",
        "print(f\"Loss for untrained model: {loss.item():.4f}\")\n",
        "\n"
      ]
    },
    {
      "cell_type": "markdown",
      "metadata": {
        "id": "BrHQCv7q7LF_"
      },
      "source": [
        "### 🟡 **Step 2:** Try to train and overfit the model on a small subset of the dataset."
      ]
    },
    {
      "cell_type": "code",
      "execution_count": 33,
      "metadata": {
        "id": "G0ji0MXsWaPt"
      },
      "outputs": [],
      "source": [
        "subset_size = 100\n",
        "small_train_loader = DataLoader(\n",
        "    torch.utils.data.Subset(train_dataset, list(range(subset_size))),\n",
        "    batch_size=16,\n",
        "    shuffle=True,\n",
        ")\n",
        "\n",
        "model = LanguageModel(vocab_size, embedding_dim, hidden_dim, num_layers, dropout_rate).to(device)\n",
        "optimizer = torch.optim.SGD(model.parameters(), lr=0.01, momentum=0.9)\n"
      ]
    },
    {
      "cell_type": "code",
      "execution_count": 35,
      "metadata": {
        "id": "hVyxR5Q4161Q"
      },
      "outputs": [],
      "source": [
        "class AccuracyMetric:\n",
        "    def __init__(self):\n",
        "        self.correct = 0\n",
        "        self.total = 0\n",
        "\n",
        "    def reset(self):\n",
        "        self.correct = 0\n",
        "        self.total = 0\n",
        "\n",
        "    def update(self, outputs, targets):\n",
        "        _, predicted = torch.max(outputs, dim=-1)\n",
        "        self.correct += (predicted == targets).float().sum().item()\n",
        "        self.total += targets.numel()\n",
        "\n",
        "    def compute(self):\n",
        "        return self.correct / self.total if self.total > 0 else 0\n",
        "metric = AccuracyMetric()"
      ]
    },
    {
      "cell_type": "code",
      "execution_count": 41,
      "metadata": {
        "colab": {
          "base_uri": "https://localhost:8080/"
        },
        "id": "kPRZQpPWJ2qv",
        "outputId": "6a6bac01-3ce1-44a3-cc52-1e12fbfc9889"
      },
      "outputs": [
        {
          "name": "stderr",
          "output_type": "stream",
          "text": [
            "100%|██████████| 7/7 [00:01<00:00,  6.92batch/s, loss=10.2, metric=0.0631]\n",
            "Epoch 1: 100%|██████████| 7/7 [00:00<00:00,  7.41batch/s, loss=10.1, metric=0.0631]\n",
            "Epoch 2: 100%|██████████| 7/7 [00:00<00:00,  7.26batch/s, loss=10.1, metric=0.0631]\n",
            "Epoch 3: 100%|██████████| 7/7 [00:00<00:00,  7.23batch/s, loss=10.1, metric=0.0631]\n",
            "Epoch 4: 100%|██████████| 7/7 [00:00<00:00,  7.25batch/s, loss=10.1, metric=0.0631]\n",
            "Epoch 5: 100%|██████████| 7/7 [00:00<00:00,  7.37batch/s, loss=10.1, metric=0.0631]\n",
            "Epoch 6: 100%|██████████| 7/7 [00:00<00:00,  7.38batch/s, loss=10.1, metric=0.0631]\n",
            "Epoch 7: 100%|██████████| 7/7 [00:00<00:00,  7.37batch/s, loss=10, metric=0.0631]\n",
            "Epoch 8: 100%|██████████| 7/7 [00:00<00:00,  7.36batch/s, loss=10, metric=0.0631]\n",
            "Epoch 9: 100%|██████████| 7/7 [00:00<00:00,  7.34batch/s, loss=9.98, metric=0.0631]\n",
            "Epoch 10: 100%|██████████| 7/7 [00:00<00:00,  7.37batch/s, loss=9.94, metric=0.0631]\n",
            "Epoch 11: 100%|██████████| 7/7 [00:00<00:00,  7.32batch/s, loss=9.9, metric=0.0631]\n",
            "Epoch 12: 100%|██████████| 7/7 [00:00<00:00,  7.35batch/s, loss=9.86, metric=0.0631]\n",
            "Epoch 13: 100%|██████████| 7/7 [00:00<00:00,  7.28batch/s, loss=9.8, metric=0.0631]\n",
            "Epoch 14: 100%|██████████| 7/7 [00:00<00:00,  7.34batch/s, loss=9.73, metric=0.0631]\n",
            "Epoch 15: 100%|██████████| 7/7 [00:00<00:00,  7.25batch/s, loss=9.64, metric=0.0631]\n",
            "Epoch 16: 100%|██████████| 7/7 [00:00<00:00,  7.23batch/s, loss=9.53, metric=0.0631]\n",
            "Epoch 17: 100%|██████████| 7/7 [00:00<00:00,  7.27batch/s, loss=9.38, metric=0.0631]\n",
            "Epoch 18: 100%|██████████| 7/7 [00:00<00:00,  7.34batch/s, loss=9.19, metric=0.0631]\n",
            "Epoch 19: 100%|██████████| 7/7 [00:00<00:00,  7.34batch/s, loss=8.98, metric=0.0631]\n",
            "Epoch 20: 100%|██████████| 7/7 [00:00<00:00,  7.33batch/s, loss=8.82, metric=0.0631]\n",
            "Epoch 21: 100%|██████████| 7/7 [00:00<00:00,  7.32batch/s, loss=8.69, metric=0.0631]\n",
            "Epoch 22: 100%|██████████| 7/7 [00:00<00:00,  7.32batch/s, loss=8.58, metric=0.0523]\n",
            "Epoch 23: 100%|██████████| 7/7 [00:00<00:00,  7.30batch/s, loss=8.49, metric=0.0491]\n",
            "Epoch 24: 100%|██████████| 7/7 [00:00<00:00,  7.29batch/s, loss=8.4, metric=0.0447]\n",
            "Epoch 25: 100%|██████████| 7/7 [00:00<00:00,  7.26batch/s, loss=8.33, metric=0.0631]\n",
            "Epoch 26: 100%|██████████| 7/7 [00:00<00:00,  7.25batch/s, loss=8.27, metric=0.0631]\n",
            "Epoch 27: 100%|██████████| 7/7 [00:00<00:00,  7.23batch/s, loss=8.22, metric=0.0631]\n",
            "Epoch 28: 100%|██████████| 7/7 [00:00<00:00,  7.33batch/s, loss=8.18, metric=0.0631]\n",
            "Epoch 29: 100%|██████████| 7/7 [00:00<00:00,  7.28batch/s, loss=8.13, metric=0.0631]\n",
            "Epoch 30: 100%|██████████| 7/7 [00:00<00:00,  7.21batch/s, loss=8.09, metric=0.0631]\n",
            "Epoch 31: 100%|██████████| 7/7 [00:00<00:00,  7.17batch/s, loss=8.05, metric=0.0631]\n",
            "Epoch 32: 100%|██████████| 7/7 [00:00<00:00,  7.23batch/s, loss=8.01, metric=0.0631]\n",
            "Epoch 33: 100%|██████████| 7/7 [00:00<00:00,  7.28batch/s, loss=7.98, metric=0.0631]\n",
            "Epoch 34: 100%|██████████| 7/7 [00:00<00:00,  7.24batch/s, loss=7.94, metric=0.0631]\n",
            "Epoch 35: 100%|██████████| 7/7 [00:00<00:00,  7.28batch/s, loss=7.91, metric=0.0631]\n",
            "Epoch 36: 100%|██████████| 7/7 [00:00<00:00,  7.22batch/s, loss=7.89, metric=0.0631]\n",
            "Epoch 37: 100%|██████████| 7/7 [00:00<00:00,  7.22batch/s, loss=7.86, metric=0.0631]\n",
            "Epoch 38: 100%|██████████| 7/7 [00:00<00:00,  7.20batch/s, loss=7.84, metric=0.0631]\n",
            "Epoch 39: 100%|██████████| 7/7 [00:00<00:00,  7.24batch/s, loss=7.82, metric=0.0631]\n",
            "Epoch 40: 100%|██████████| 7/7 [00:00<00:00,  7.23batch/s, loss=7.8, metric=0.0631]\n",
            "Epoch 41: 100%|██████████| 7/7 [00:00<00:00,  7.24batch/s, loss=7.78, metric=0.0631]\n",
            "Epoch 42: 100%|██████████| 7/7 [00:00<00:00,  7.16batch/s, loss=7.76, metric=0.0631]\n",
            "Epoch 43: 100%|██████████| 7/7 [00:00<00:00,  7.11batch/s, loss=7.75, metric=0.0631]\n",
            "Epoch 44: 100%|██████████| 7/7 [00:00<00:00,  7.16batch/s, loss=7.73, metric=0.0631]\n",
            "Epoch 45: 100%|██████████| 7/7 [00:00<00:00,  7.21batch/s, loss=7.72, metric=0.0631]\n",
            "Epoch 46: 100%|██████████| 7/7 [00:00<00:00,  7.22batch/s, loss=7.7, metric=0.0631]\n",
            "Epoch 47: 100%|██████████| 7/7 [00:00<00:00,  7.22batch/s, loss=7.69, metric=0.0631]\n",
            "Epoch 48: 100%|██████████| 7/7 [00:00<00:00,  7.24batch/s, loss=7.67, metric=0.0631]\n",
            "Epoch 49: 100%|██████████| 7/7 [00:00<00:00,  7.19batch/s, loss=7.66, metric=0.0631]\n",
            "Epoch 50: 100%|██████████| 7/7 [00:00<00:00,  7.22batch/s, loss=7.65, metric=0.0631]\n",
            "Epoch 51: 100%|██████████| 7/7 [00:00<00:00,  7.17batch/s, loss=7.63, metric=0.0631]\n",
            "Epoch 52: 100%|██████████| 7/7 [00:00<00:00,  7.20batch/s, loss=7.62, metric=0.0631]\n",
            "Epoch 53: 100%|██████████| 7/7 [00:00<00:00,  7.17batch/s, loss=7.61, metric=0.0631]\n",
            "Epoch 54: 100%|██████████| 7/7 [00:00<00:00,  7.17batch/s, loss=7.59, metric=0.0631]\n",
            "Epoch 55: 100%|██████████| 7/7 [00:00<00:00,  7.16batch/s, loss=7.58, metric=0.0631]\n",
            "Epoch 56: 100%|██████████| 7/7 [00:00<00:00,  7.10batch/s, loss=7.57, metric=0.0631]\n",
            "Epoch 57: 100%|██████████| 7/7 [00:00<00:00,  7.06batch/s, loss=7.55, metric=0.0631]\n",
            "Epoch 58: 100%|██████████| 7/7 [00:00<00:00,  7.16batch/s, loss=7.54, metric=0.0631]\n",
            "Epoch 59: 100%|██████████| 7/7 [00:00<00:00,  7.11batch/s, loss=7.53, metric=0.0631]\n",
            "Epoch 60: 100%|██████████| 7/7 [00:00<00:00,  7.20batch/s, loss=7.52, metric=0.0631]\n",
            "Epoch 61: 100%|██████████| 7/7 [00:00<00:00,  7.21batch/s, loss=7.51, metric=0.0631]\n",
            "Epoch 62: 100%|██████████| 7/7 [00:00<00:00,  7.18batch/s, loss=7.49, metric=0.0631]\n",
            "Epoch 63: 100%|██████████| 7/7 [00:00<00:00,  7.12batch/s, loss=7.48, metric=0.0631]\n",
            "Epoch 64: 100%|██████████| 7/7 [00:00<00:00,  7.15batch/s, loss=7.47, metric=0.0631]\n",
            "Epoch 65: 100%|██████████| 7/7 [00:00<00:00,  7.12batch/s, loss=7.46, metric=0.0631]\n",
            "Epoch 66: 100%|██████████| 7/7 [00:00<00:00,  7.17batch/s, loss=7.45, metric=0.0631]\n",
            "Epoch 67: 100%|██████████| 7/7 [00:00<00:00,  7.15batch/s, loss=7.44, metric=0.0631]\n",
            "Epoch 68: 100%|██████████| 7/7 [00:00<00:00,  7.15batch/s, loss=7.43, metric=0.0631]\n",
            "Epoch 69: 100%|██████████| 7/7 [00:00<00:00,  7.09batch/s, loss=7.42, metric=0.0631]\n",
            "Epoch 70: 100%|██████████| 7/7 [00:00<00:00,  7.07batch/s, loss=7.41, metric=0.0631]\n",
            "Epoch 71: 100%|██████████| 7/7 [00:00<00:00,  7.17batch/s, loss=7.4, metric=0.0631]\n",
            "Epoch 72: 100%|██████████| 7/7 [00:00<00:00,  7.13batch/s, loss=7.39, metric=0.0631]\n",
            "Epoch 73: 100%|██████████| 7/7 [00:00<00:00,  7.11batch/s, loss=7.38, metric=0.0631]\n",
            "Epoch 74: 100%|██████████| 7/7 [00:00<00:00,  7.15batch/s, loss=7.37, metric=0.0631]\n",
            "Epoch 75: 100%|██████████| 7/7 [00:00<00:00,  7.11batch/s, loss=7.37, metric=0.0631]\n",
            "Epoch 76: 100%|██████████| 7/7 [00:00<00:00,  7.13batch/s, loss=7.36, metric=0.0631]\n",
            "Epoch 77: 100%|██████████| 7/7 [00:00<00:00,  7.10batch/s, loss=7.35, metric=0.0631]\n",
            "Epoch 78: 100%|██████████| 7/7 [00:00<00:00,  7.06batch/s, loss=7.34, metric=0.0631]\n",
            "Epoch 79: 100%|██████████| 7/7 [00:00<00:00,  7.11batch/s, loss=7.33, metric=0.0631]\n",
            "Epoch 80: 100%|██████████| 7/7 [00:00<00:00,  7.13batch/s, loss=7.32, metric=0.0631]\n",
            "Epoch 81: 100%|██████████| 7/7 [00:00<00:00,  7.03batch/s, loss=7.32, metric=0.0631]\n",
            "Epoch 82: 100%|██████████| 7/7 [00:00<00:00,  7.04batch/s, loss=7.31, metric=0.0631]\n",
            "Epoch 83: 100%|██████████| 7/7 [00:00<00:00,  7.02batch/s, loss=7.3, metric=0.0631]\n",
            "Epoch 84: 100%|██████████| 7/7 [00:00<00:00,  7.09batch/s, loss=7.29, metric=0.0631]\n",
            "Epoch 85: 100%|██████████| 7/7 [00:00<00:00,  7.10batch/s, loss=7.29, metric=0.0631]\n",
            "Epoch 86: 100%|██████████| 7/7 [00:00<00:00,  7.12batch/s, loss=7.28, metric=0.0631]\n",
            "Epoch 87: 100%|██████████| 7/7 [00:00<00:00,  7.12batch/s, loss=7.27, metric=0.0631]\n",
            "Epoch 88: 100%|██████████| 7/7 [00:00<00:00,  7.14batch/s, loss=7.26, metric=0.0631]\n",
            "Epoch 89: 100%|██████████| 7/7 [00:00<00:00,  7.09batch/s, loss=7.26, metric=0.0631]\n",
            "Epoch 90: 100%|██████████| 7/7 [00:00<00:00,  7.11batch/s, loss=7.25, metric=0.0631]\n",
            "Epoch 91: 100%|██████████| 7/7 [00:00<00:00,  7.14batch/s, loss=7.24, metric=0.0631]\n",
            "Epoch 92: 100%|██████████| 7/7 [00:00<00:00,  7.07batch/s, loss=7.24, metric=0.0631]\n",
            "Epoch 93: 100%|██████████| 7/7 [00:00<00:00,  7.08batch/s, loss=7.23, metric=0.0631]\n",
            "Epoch 94: 100%|██████████| 7/7 [00:01<00:00,  6.98batch/s, loss=7.22, metric=0.0631]\n",
            "Epoch 95: 100%|██████████| 7/7 [00:00<00:00,  7.05batch/s, loss=7.22, metric=0.0631]\n",
            "Epoch 96: 100%|██████████| 7/7 [00:00<00:00,  7.03batch/s, loss=7.21, metric=0.0631]\n",
            "Epoch 97: 100%|██████████| 7/7 [00:00<00:00,  7.09batch/s, loss=7.21, metric=0.0631]\n",
            "Epoch 98: 100%|██████████| 7/7 [00:00<00:00,  7.07batch/s, loss=7.2, metric=0.0631]\n",
            "Epoch 99: 100%|██████████| 7/7 [00:00<00:00,  7.07batch/s, loss=7.19, metric=0.0631]\n"
          ]
        }
      ],
      "source": [
        "num_epochs = 100\n",
        "\n",
        "for epoch in range(num_epochs):\n",
        "    model, _, _ = train_one_epoch(model, small_train_loader, criterion, optimizer, metric, epoch)"
      ]
    },
    {
      "cell_type": "markdown",
      "metadata": {
        "id": "BLT4w0ZfAhlJ"
      },
      "source": [
        "### 🟡 **Step 3:** Train the model for a limited number of epochs, experimenting with various learning rates."
      ]
    },
    {
      "cell_type": "code",
      "execution_count": 46,
      "metadata": {
        "colab": {
          "base_uri": "https://localhost:8080/"
        },
        "id": "Jxz5DXoj61mg",
        "outputId": "cc04b29d-f045-4d91-bebb-e980b2d0e572"
      },
      "outputs": [
        {
          "name": "stdout",
          "output_type": "stream",
          "text": [
            "Training with Learning Rate: 0.001\n"
          ]
        },
        {
          "name": "stderr",
          "output_type": "stream",
          "text": [
            "100%|██████████| 251/251 [00:39<00:00,  6.30batch/s, loss=10.2, metric=0.0346]\n",
            "Epoch 1: 100%|██████████| 251/251 [00:40<00:00,  6.19batch/s, loss=10.2, metric=0.0638]\n",
            "Epoch 2: 100%|██████████| 251/251 [00:40<00:00,  6.19batch/s, loss=10.1, metric=0.0638]\n"
          ]
        },
        {
          "name": "stdout",
          "output_type": "stream",
          "text": [
            "Finished training with Learning Rate: 0.001\n",
            "\n",
            "Training with Learning Rate: 0.01\n"
          ]
        },
        {
          "name": "stderr",
          "output_type": "stream",
          "text": [
            "100%|██████████| 251/251 [00:40<00:00,  6.19batch/s, loss=9.66, metric=0.0558]\n",
            "Epoch 1: 100%|██████████| 251/251 [00:40<00:00,  6.18batch/s, loss=7.83, metric=0.0638]\n",
            "Epoch 2: 100%|██████████| 251/251 [00:40<00:00,  6.18batch/s, loss=7.5, metric=0.0638]\n"
          ]
        },
        {
          "name": "stdout",
          "output_type": "stream",
          "text": [
            "Finished training with Learning Rate: 0.01\n",
            "\n",
            "Training with Learning Rate: 0.1\n"
          ]
        },
        {
          "name": "stderr",
          "output_type": "stream",
          "text": [
            "100%|██████████| 251/251 [00:40<00:00,  6.19batch/s, loss=7.82, metric=0.0626]\n",
            "Epoch 1: 100%|██████████| 251/251 [00:40<00:00,  6.18batch/s, loss=6.88, metric=0.0995]\n",
            "Epoch 2: 100%|██████████| 251/251 [00:40<00:00,  6.17batch/s, loss=6.65, metric=0.127]"
          ]
        },
        {
          "name": "stdout",
          "output_type": "stream",
          "text": [
            "Finished training with Learning Rate: 0.1\n",
            "\n"
          ]
        },
        {
          "name": "stderr",
          "output_type": "stream",
          "text": [
            "\n"
          ]
        }
      ],
      "source": [
        "num_epochs = 3\n",
        "learning_rates = [0.001, 0.01, 0.1]\n",
        "\n",
        "for lr in learning_rates:\n",
        "    print(f\"Training with Learning Rate: {lr}\")\n",
        "\n",
        "    model = LanguageModel(vocab_size, embedding_dim, hidden_dim, num_layers, dropout_rate).to(device)\n",
        "    optimizer = SGD(model.parameters(), lr=lr, weight_decay=1e-4, momentum=0.9)\n",
        "\n",
        "    for epoch in range(num_epochs):\n",
        "        model, _, _ = train_one_epoch(model, train_loader, criterion, optimizer, metric, epoch)\n",
        "\n",
        "    print(f\"Finished training with Learning Rate: {lr}\")\n",
        "    print()"
      ]
    },
    {
      "cell_type": "markdown",
      "metadata": {
        "id": "uC2GhaXfA8vC"
      },
      "source": [
        "### 🟡 Step 4: Create a small grid using the weight decay and the best learning rate.\n",
        "\n",
        "\n",
        "\n"
      ]
    },
    {
      "cell_type": "code",
      "execution_count": 47,
      "metadata": {
        "colab": {
          "base_uri": "https://localhost:8080/"
        },
        "id": "a7UeNW3WWaPu",
        "outputId": "f8313a6b-18e7-48d0-fcdb-dfb587344a08"
      },
      "outputs": [
        {
          "name": "stdout",
          "output_type": "stream",
          "text": [
            "Training with LR=0.01, WD=0.0\n"
          ]
        },
        {
          "name": "stderr",
          "output_type": "stream",
          "text": [
            "100%|██████████| 251/251 [00:38<00:00,  6.52batch/s, loss=9.72, metric=0.0549]\n",
            "Epoch 1: 100%|██████████| 251/251 [00:39<00:00,  6.35batch/s, loss=7.85, metric=0.0638]\n",
            "Epoch 2: 100%|██████████| 251/251 [00:40<00:00,  6.21batch/s, loss=7.51, metric=0.0638]\n"
          ]
        },
        {
          "name": "stdout",
          "output_type": "stream",
          "text": [
            "Finished training with LR=0.01, WD=0.0\n",
            "Training with LR=0.01, WD=0.0001\n"
          ]
        },
        {
          "name": "stderr",
          "output_type": "stream",
          "text": [
            "100%|██████████| 251/251 [00:40<00:00,  6.21batch/s, loss=9.69, metric=0.056]\n",
            "Epoch 1: 100%|██████████| 251/251 [00:40<00:00,  6.18batch/s, loss=7.82, metric=0.0638]\n",
            "Epoch 2: 100%|██████████| 251/251 [00:40<00:00,  6.17batch/s, loss=7.49, metric=0.0638]\n"
          ]
        },
        {
          "name": "stdout",
          "output_type": "stream",
          "text": [
            "Finished training with LR=0.01, WD=0.0001\n",
            "Training with LR=0.01, WD=0.001\n"
          ]
        },
        {
          "name": "stderr",
          "output_type": "stream",
          "text": [
            "100%|██████████| 251/251 [00:40<00:00,  6.19batch/s, loss=9.74, metric=0.058]\n",
            "Epoch 1: 100%|██████████| 251/251 [00:40<00:00,  6.18batch/s, loss=7.85, metric=0.0638]\n",
            "Epoch 2: 100%|██████████| 251/251 [00:40<00:00,  6.18batch/s, loss=7.5, metric=0.0638]\n"
          ]
        },
        {
          "name": "stdout",
          "output_type": "stream",
          "text": [
            "Finished training with LR=0.01, WD=0.001\n",
            "Training with LR=0.01, WD=0.01\n"
          ]
        },
        {
          "name": "stderr",
          "output_type": "stream",
          "text": [
            "100%|██████████| 251/251 [00:40<00:00,  6.19batch/s, loss=9.86, metric=0.0578]\n",
            "Epoch 1: 100%|██████████| 251/251 [00:40<00:00,  6.18batch/s, loss=7.94, metric=0.0629]\n",
            "Epoch 2: 100%|██████████| 251/251 [00:40<00:00,  6.18batch/s, loss=7.57, metric=0.0638]"
          ]
        },
        {
          "name": "stdout",
          "output_type": "stream",
          "text": [
            "Finished training with LR=0.01, WD=0.01\n"
          ]
        },
        {
          "name": "stderr",
          "output_type": "stream",
          "text": [
            "\n"
          ]
        }
      ],
      "source": [
        "num_epochs = 3\n",
        "best_lr = 0.01\n",
        "weight_decays = [0.0, 1e-4, 1e-3, 1e-2]\n",
        "\n",
        "for wd in weight_decays:\n",
        "    print(f\"Training with LR={best_lr}, WD={wd}\")\n",
        "\n",
        "    model = LanguageModel(vocab_size, embedding_dim, hidden_dim, num_layers, dropout_rate).to(device)\n",
        "    optimizer = SGD(model.parameters(), lr=best_lr, weight_decay=wd, momentum=0.9)\n",
        "\n",
        "    for epoch in range(num_epochs):\n",
        "        model, loss, _ = train_one_epoch(model, train_loader, criterion, optimizer, metric, epoch)\n",
        "\n",
        "    print(f\"Finished training with LR={best_lr}, WD={wd}\")\n"
      ]
    },
    {
      "cell_type": "markdown",
      "metadata": {
        "id": "Mjd9Z3N1ef3I"
      },
      "source": [
        "### 🟡 Step 5: Train model for longer epochs using the best model from step 4.\n",
        "\n",
        "\n",
        "\n"
      ]
    },
    {
      "cell_type": "markdown",
      "metadata": {
        "id": "rjGQ-M02cusP"
      },
      "source": [
        "## 🟠 Main Loop"
      ]
    },
    {
      "cell_type": "code",
      "execution_count": 62,
      "metadata": {
        "id": "IWgkMgC6JWpU"
      },
      "outputs": [],
      "source": [
        "lr = 0.01\n",
        "wd = 1e-4\n",
        "num_epochs = 20\n",
        "\n",
        "model = LanguageModel(vocab_size, embedding_dim, hidden_dim, num_layers, dropout_rate).to(device)\n",
        "optimizer = optim.SGD(\n",
        "    model.parameters(), lr=lr, weight_decay=wd, momentum=0.9, nesterov=True\n",
        ")"
      ]
    },
    {
      "cell_type": "code",
      "execution_count": 63,
      "metadata": {
        "id": "YVwLp-02JWpV"
      },
      "outputs": [],
      "source": [
        "optimizer = optim.SGD(model.parameters(), lr=lr, weight_decay=wd, momentum=0.9, nesterov=True)"
      ]
    },
    {
      "cell_type": "code",
      "execution_count": 64,
      "metadata": {
        "id": "zqxSVVB7JWpW"
      },
      "outputs": [],
      "source": [
        "loss_train_hist = []\n",
        "loss_valid_hist = []\n",
        "metric_train_hist = []\n",
        "metric_valid_hist = []\n",
        "\n",
        "best_loss_valid = torch.inf\n",
        "epoch_counter = 0"
      ]
    },
    {
      "cell_type": "code",
      "execution_count": 65,
      "metadata": {
        "colab": {
          "base_uri": "https://localhost:8080/"
        },
        "id": "eVqS9SEPJWpW",
        "outputId": "99e5ed4f-f84b-49f7-a5f2-6e0154135a0b"
      },
      "outputs": [
        {
          "name": "stderr",
          "output_type": "stream",
          "text": [
            "100%|██████████| 251/251 [00:40<00:00,  6.18batch/s, loss=9.64, metric=0.0586]\n"
          ]
        },
        {
          "name": "stdout",
          "output_type": "stream",
          "text": [
            "Model Saved!\n",
            "Epoch 1/20\n",
            "Train: Loss = 9.6446, Metric = 0.0586\n",
            "Valid: Loss = 8.0062, Metric = 0.0687\n",
            "\n"
          ]
        },
        {
          "name": "stderr",
          "output_type": "stream",
          "text": [
            "Epoch 1: 100%|██████████| 251/251 [00:41<00:00,  6.11batch/s, loss=7.82, metric=0.0638]\n"
          ]
        },
        {
          "name": "stdout",
          "output_type": "stream",
          "text": [
            "Model Saved!\n",
            "Epoch 2/20\n",
            "Train: Loss = 7.8222, Metric = 0.0638\n",
            "Valid: Loss = 7.4181, Metric = 0.0687\n",
            "\n"
          ]
        },
        {
          "name": "stderr",
          "output_type": "stream",
          "text": [
            "Epoch 2: 100%|██████████| 251/251 [00:40<00:00,  6.13batch/s, loss=7.5, metric=0.0638]\n"
          ]
        },
        {
          "name": "stdout",
          "output_type": "stream",
          "text": [
            "Model Saved!\n",
            "Epoch 3/20\n",
            "Train: Loss = 7.4959, Metric = 0.0638\n",
            "Valid: Loss = 7.2048, Metric = 0.0687\n",
            "\n"
          ]
        },
        {
          "name": "stderr",
          "output_type": "stream",
          "text": [
            "Epoch 3: 100%|██████████| 251/251 [00:41<00:00,  6.11batch/s, loss=7.33, metric=0.0638]\n"
          ]
        },
        {
          "name": "stdout",
          "output_type": "stream",
          "text": [
            "Model Saved!\n",
            "Epoch 4/20\n",
            "Train: Loss = 7.3343, Metric = 0.0638\n",
            "Valid: Loss = 7.0725, Metric = 0.0687\n",
            "\n"
          ]
        },
        {
          "name": "stderr",
          "output_type": "stream",
          "text": [
            "Epoch 4: 100%|██████████| 251/251 [00:41<00:00,  6.06batch/s, loss=7.23, metric=0.0638]\n"
          ]
        },
        {
          "name": "stdout",
          "output_type": "stream",
          "text": [
            "Model Saved!\n",
            "Epoch 5/20\n",
            "Train: Loss = 7.2346, Metric = 0.0638\n",
            "Valid: Loss = 6.9894, Metric = 0.0687\n",
            "\n"
          ]
        },
        {
          "name": "stderr",
          "output_type": "stream",
          "text": [
            "Epoch 5: 100%|██████████| 251/251 [00:40<00:00,  6.15batch/s, loss=7.17, metric=0.0638]\n"
          ]
        },
        {
          "name": "stdout",
          "output_type": "stream",
          "text": [
            "Model Saved!\n",
            "Epoch 6/20\n",
            "Train: Loss = 7.1678, Metric = 0.0638\n",
            "Valid: Loss = 6.9292, Metric = 0.0687\n",
            "\n"
          ]
        },
        {
          "name": "stderr",
          "output_type": "stream",
          "text": [
            "Epoch 6: 100%|██████████| 251/251 [00:40<00:00,  6.15batch/s, loss=7.12, metric=0.0638]\n"
          ]
        },
        {
          "name": "stdout",
          "output_type": "stream",
          "text": [
            "Model Saved!\n",
            "Epoch 7/20\n",
            "Train: Loss = 7.1165, Metric = 0.0638\n",
            "Valid: Loss = 6.8822, Metric = 0.0687\n",
            "\n"
          ]
        },
        {
          "name": "stderr",
          "output_type": "stream",
          "text": [
            "Epoch 7: 100%|██████████| 251/251 [00:40<00:00,  6.16batch/s, loss=7.07, metric=0.0679]\n"
          ]
        },
        {
          "name": "stdout",
          "output_type": "stream",
          "text": [
            "Model Saved!\n",
            "Epoch 8/20\n",
            "Train: Loss = 7.0728, Metric = 0.0679\n",
            "Valid: Loss = 6.8382, Metric = 0.0747\n",
            "\n"
          ]
        },
        {
          "name": "stderr",
          "output_type": "stream",
          "text": [
            "Epoch 8: 100%|██████████| 251/251 [00:40<00:00,  6.15batch/s, loss=7.03, metric=0.0721]\n"
          ]
        },
        {
          "name": "stdout",
          "output_type": "stream",
          "text": [
            "Model Saved!\n",
            "Epoch 9/20\n",
            "Train: Loss = 7.0340, Metric = 0.0721\n",
            "Valid: Loss = 6.8037, Metric = 0.0772\n",
            "\n"
          ]
        },
        {
          "name": "stderr",
          "output_type": "stream",
          "text": [
            "Epoch 9: 100%|██████████| 251/251 [00:40<00:00,  6.15batch/s, loss=7, metric=0.0758]\n"
          ]
        },
        {
          "name": "stdout",
          "output_type": "stream",
          "text": [
            "Model Saved!\n",
            "Epoch 10/20\n",
            "Train: Loss = 7.0016, Metric = 0.0758\n",
            "Valid: Loss = 6.7733, Metric = 0.0854\n",
            "\n"
          ]
        },
        {
          "name": "stderr",
          "output_type": "stream",
          "text": [
            "Epoch 10: 100%|██████████| 251/251 [00:40<00:00,  6.15batch/s, loss=6.97, metric=0.0816]\n"
          ]
        },
        {
          "name": "stdout",
          "output_type": "stream",
          "text": [
            "Model Saved!\n",
            "Epoch 11/20\n",
            "Train: Loss = 6.9726, Metric = 0.0816\n",
            "Valid: Loss = 6.7434, Metric = 0.0909\n",
            "\n"
          ]
        },
        {
          "name": "stderr",
          "output_type": "stream",
          "text": [
            "Epoch 11: 100%|██████████| 251/251 [00:40<00:00,  6.15batch/s, loss=6.94, metric=0.0885]\n"
          ]
        },
        {
          "name": "stdout",
          "output_type": "stream",
          "text": [
            "Model Saved!\n",
            "Epoch 12/20\n",
            "Train: Loss = 6.9448, Metric = 0.0885\n",
            "Valid: Loss = 6.7131, Metric = 0.0965\n",
            "\n"
          ]
        },
        {
          "name": "stderr",
          "output_type": "stream",
          "text": [
            "Epoch 12: 100%|██████████| 251/251 [00:40<00:00,  6.16batch/s, loss=6.92, metric=0.0939]\n"
          ]
        },
        {
          "name": "stdout",
          "output_type": "stream",
          "text": [
            "Model Saved!\n",
            "Epoch 13/20\n",
            "Train: Loss = 6.9183, Metric = 0.0939\n",
            "Valid: Loss = 6.6853, Metric = 0.1006\n",
            "\n"
          ]
        },
        {
          "name": "stderr",
          "output_type": "stream",
          "text": [
            "Epoch 13: 100%|██████████| 251/251 [00:40<00:00,  6.14batch/s, loss=6.89, metric=0.0983]\n"
          ]
        },
        {
          "name": "stdout",
          "output_type": "stream",
          "text": [
            "Model Saved!\n",
            "Epoch 14/20\n",
            "Train: Loss = 6.8932, Metric = 0.0983\n",
            "Valid: Loss = 6.6577, Metric = 0.1050\n",
            "\n"
          ]
        },
        {
          "name": "stderr",
          "output_type": "stream",
          "text": [
            "Epoch 14: 100%|██████████| 251/251 [00:40<00:00,  6.14batch/s, loss=6.87, metric=0.102]\n"
          ]
        },
        {
          "name": "stdout",
          "output_type": "stream",
          "text": [
            "Model Saved!\n",
            "Epoch 15/20\n",
            "Train: Loss = 6.8690, Metric = 0.1021\n",
            "Valid: Loss = 6.6351, Metric = 0.1091\n",
            "\n"
          ]
        },
        {
          "name": "stderr",
          "output_type": "stream",
          "text": [
            "Epoch 15: 100%|██████████| 251/251 [00:40<00:00,  6.15batch/s, loss=6.85, metric=0.105]\n"
          ]
        },
        {
          "name": "stdout",
          "output_type": "stream",
          "text": [
            "Model Saved!\n",
            "Epoch 16/20\n",
            "Train: Loss = 6.8457, Metric = 0.1053\n",
            "Valid: Loss = 6.6119, Metric = 0.1115\n",
            "\n"
          ]
        },
        {
          "name": "stderr",
          "output_type": "stream",
          "text": [
            "Epoch 16: 100%|██████████| 251/251 [00:40<00:00,  6.15batch/s, loss=6.82, metric=0.108]\n"
          ]
        },
        {
          "name": "stdout",
          "output_type": "stream",
          "text": [
            "Model Saved!\n",
            "Epoch 17/20\n",
            "Train: Loss = 6.8231, Metric = 0.1080\n",
            "Valid: Loss = 6.5865, Metric = 0.1175\n",
            "\n"
          ]
        },
        {
          "name": "stderr",
          "output_type": "stream",
          "text": [
            "Epoch 17: 100%|██████████| 251/251 [00:40<00:00,  6.15batch/s, loss=6.8, metric=0.111]\n"
          ]
        },
        {
          "name": "stdout",
          "output_type": "stream",
          "text": [
            "Model Saved!\n",
            "Epoch 18/20\n",
            "Train: Loss = 6.8010, Metric = 0.1107\n",
            "Valid: Loss = 6.5638, Metric = 0.1202\n",
            "\n"
          ]
        },
        {
          "name": "stderr",
          "output_type": "stream",
          "text": [
            "Epoch 18: 100%|██████████| 251/251 [00:40<00:00,  6.15batch/s, loss=6.78, metric=0.113]\n"
          ]
        },
        {
          "name": "stdout",
          "output_type": "stream",
          "text": [
            "Model Saved!\n",
            "Epoch 19/20\n",
            "Train: Loss = 6.7795, Metric = 0.1126\n",
            "Valid: Loss = 6.5409, Metric = 0.1229\n",
            "\n"
          ]
        },
        {
          "name": "stderr",
          "output_type": "stream",
          "text": [
            "Epoch 19: 100%|██████████| 251/251 [00:40<00:00,  6.15batch/s, loss=6.76, metric=0.116]\n"
          ]
        },
        {
          "name": "stdout",
          "output_type": "stream",
          "text": [
            "Model Saved!\n",
            "Epoch 20/20\n",
            "Train: Loss = 6.7583, Metric = 0.1161\n",
            "Valid: Loss = 6.5234, Metric = 0.1271\n",
            "\n"
          ]
        }
      ],
      "source": [
        "for epoch in range(num_epochs):\n",
        "\n",
        "    model, loss_train, metric_train = train_one_epoch(\n",
        "        model, train_loader, criterion, optimizer, metric, epoch\n",
        "    )\n",
        "\n",
        "    loss_valid, metric_valid = evaluate(model, val_loader, criterion, metric)\n",
        "\n",
        "    loss_train_hist.append(loss_train)\n",
        "    loss_valid_hist.append(loss_valid)\n",
        "    metric_train_hist.append(metric_train)\n",
        "    metric_valid_hist.append(metric_valid)\n",
        "\n",
        "    if loss_valid < best_loss_valid:\n",
        "        torch.save(model.state_dict(), \"best_model.pt\")\n",
        "        best_loss_valid = loss_valid\n",
        "        print(\"Model Saved!\")\n",
        "\n",
        "    print(f\"Epoch {epoch + 1}/{num_epochs}\")\n",
        "    print(f\"Train: Loss = {loss_train:.4f}, Metric = {metric_train:.4f}\")\n",
        "    print(f\"Valid: Loss = {loss_valid:.4f}, Metric = {metric_valid:.4f}\")\n",
        "    print()\n",
        "\n",
        "    epoch_counter += 1"
      ]
    },
    {
      "cell_type": "markdown",
      "metadata": {
        "id": "oK20iNRI3Xxb"
      },
      "source": [
        "## 🟠 Plot"
      ]
    },
    {
      "cell_type": "markdown",
      "metadata": {
        "id": "IKlLvCwuzEAA"
      },
      "source": [
        "🔰 Plot learning curves"
      ]
    },
    {
      "cell_type": "code",
      "execution_count": 66,
      "metadata": {
        "colab": {
          "base_uri": "https://localhost:8080/",
          "height": 559
        },
        "id": "KYFzTsdIOkVp",
        "outputId": "2a78787a-04bb-4cbf-a46c-7c9d731f5a80"
      },
      "outputs": [
        {
          "data": {
            "text/plain": [
              "<matplotlib.legend.Legend at 0x7b252cb02410>"
            ]
          },
          "execution_count": 66,
          "metadata": {},
          "output_type": "execute_result"
        },
        {
          "data": {
            "image/png": "[encoded data removed]",
            "text/plain": [
              "<Figure size 800x600 with 1 Axes>"
            ]
          },
          "metadata": {},
          "output_type": "display_data"
        }
      ],
      "source": [
        "plt.figure(figsize=(8, 6))\n",
        "\n",
        "plt.plot(range(epoch_counter), loss_train_hist, 'r-', label='Train')\n",
        "plt.plot(range(epoch_counter), loss_valid_hist, 'b-', label='Validation')\n",
        "\n",
        "plt.xlabel('Epoch')\n",
        "plt.ylabel('loss')\n",
        "plt.grid(True)\n",
        "plt.legend()"
      ]
    },
    {
      "cell_type": "markdown",
      "metadata": {
        "id": "KZ9UIdmkfxlA"
      },
      "source": [
        "# 🔴 **Test**"
      ]
    },
    {
      "cell_type": "markdown",
      "metadata": {
        "id": "SO8iPWH1zVYn"
      },
      "source": [
        "🔰 Test your model using data from the test set"
      ]
    },
    {
      "cell_type": "code",
      "execution_count": 67,
      "metadata": {
        "colab": {
          "base_uri": "https://localhost:8080/"
        },
        "id": "35sn67IhKcm_",
        "outputId": "c66178fa-75b9-49d3-9846-bc7e35ce085c"
      },
      "outputs": [
        {
          "name": "stdout",
          "output_type": "stream",
          "text": [
            "Test Loss: 6.4704\n",
            "Test Metric: 0.1273\n"
          ]
        }
      ],
      "source": [
        "best_model = LanguageModel(vocab_size, embedding_dim, hidden_dim, num_layers, dropout_rate).to(device)\n",
        "best_model.load_state_dict(torch.load(\"best_model.pt\"))\n",
        "\n",
        "test_loss, test_metric = evaluate(best_model, test_loader, criterion, metric)\n",
        "\n",
        "print(f\"Test Loss: {test_loss:.4f}\")\n",
        "print(f\"Test Metric: {test_metric:.4f}\")\n"
      ]
    },
    {
      "cell_type": "markdown",
      "metadata": {
        "id": "FzcQQwFuar_7"
      },
      "source": [
        "# 🔴 **Generate**"
      ]
    },
    {
      "cell_type": "markdown",
      "metadata": {
        "id": "jh2_9jUp0GF4"
      },
      "source": [
        "🔰 Your mission is to write a `generate` function and use a desired sentence to evaluate the model"
      ]
    },
    {
      "cell_type": "code",
      "execution_count": 86,
      "metadata": {
        "id": "f5SvSDLal8YB"
      },
      "outputs": [],
      "source": [
        "import torch\n",
        "import random\n",
        "\n",
        "def generate(prompt, max_seq_len, temperature, model, tokenizer, vocab, seed=None):\n",
        "\n",
        "    tokens = tokenizer(prompt)\n",
        "    indices = [vocab[token] if token in vocab else vocab[\"<unk>\"] for token in tokens]\n",
        "\n",
        "    input_tensor = torch.tensor(indices, dtype=torch.long).unsqueeze(0).to(device)\n",
        "\n",
        "    model.eval()\n",
        "\n",
        "    generated_tokens = tokens\n",
        "\n",
        "    with torch.no_grad():\n",
        "        for _ in range(max_seq_len):\n",
        "\n",
        "            outputs = model(input_tensor)\n",
        "            logits = outputs[:, -1, :]\n",
        "            logits = logits / temperature\n",
        "            probabilities = torch.nn.functional.softmax(logits, dim=-1)\n",
        "            next_token_index = torch.multinomial(probabilities, num_samples=1).item()\n",
        "\n",
        "            next_token = vocab.get_itos()[next_token_index]\n",
        "\n",
        "            if next_token in (\"<unk>\", \"<eos>\"):\n",
        "                break\n",
        "\n",
        "            generated_tokens.append(next_token)\n",
        "\n",
        "            input_tensor = torch.cat(\n",
        "                [input_tensor, torch.tensor([[next_token_index]], dtype=torch.long).to(device)], dim=1\n",
        "            )\n",
        "\n",
        "    return \" \".join(generated_tokens)\n",
        "\n"
      ]
    },
    {
      "cell_type": "code",
      "execution_count": 89,
      "metadata": {
        "colab": {
          "base_uri": "https://localhost:8080/"
        },
        "id": "pVedneOVD6ul",
        "outputId": "315876f7-0fbd-466f-ace4-6384393adcf5"
      },
      "outputs": [
        {
          "name": "stdout",
          "output_type": "stream",
          "text": [
            "Generated Text:\n",
            "my freind and i , squadron back ' the intended of knowledge was which into\n"
          ]
        }
      ],
      "source": [
        "model_path = \"best_model.pt\"\n",
        "model = LanguageModel(vocab_size, embedding_dim, hidden_dim, num_layers, dropout_rate).to(device)\n",
        "model.load_state_dict(torch.load(model_path))\n",
        "\n",
        "prompt = \"My\"\n",
        "generated_text = generate(\n",
        "    prompt, max_seq_len=10, temperature=1.0, model=model, tokenizer=tokenizer, vocab=vocab\n",
        ")\n",
        "print(\"Generated Text:\")\n",
        "print(generated_text)\n"
      ]
    },
    {
      "cell_type": "code",
      "execution_count": null,
      "metadata": {
        "id": "-30Yf3QjD8bT"
      },
      "outputs": [],
      "source": []
    }
  ],
  "metadata": {
    "accelerator": "GPU",
    "colab": {
      "gpuType": "T4",
      "provenance": []
    },
    "kernelspec": {
      "display_name": "Python 3",
      "name": "python3"
    },
    "language_info": {
      "codemirror_mode": {
        "name": "ipython",
        "version": 3
      },
      "file_extension": ".py",
      "mimetype": "text/x-python",
      "name": "python",
      "nbconvert_exporter": "python",
      "pygments_lexer": "ipython3",
      "version": "3.11.5"
    },
    "widgets": {
      "application/vnd.jupyter.widget-state+json": {
        "02b096010ea94dd4b4f3bd30b9e6d264": {
          "model_module": "@jupyter-widgets/controls",
          "model_module_version": "1.5.0",
          "model_name": "HTMLModel",
          "state": {
            "_dom_classes": [],
            "_model_module": "@jupyter-widgets/controls",
            "_model_module_version": "1.5.0",
            "_model_name": "HTMLModel",
            "_view_count": null,
            "_view_module": "@jupyter-widgets/controls",
            "_view_module_version": "1.5.0",
            "_view_name": "HTMLView",
            "description": "",
            "description_tooltip": null,
            "layout": "IPY_MODEL_3fdaac6cb07046d88340ac3a1f14105a",
            "placeholder": "​",
            "style": "IPY_MODEL_797a9b721bfc4390ad0ed1124c615d28",
            "value": " 618k/618k [00:00&lt;00:00, 9.26MB/s]"
          }
        },
        "035bed0d0620420ba1dfb8f1e5f358db": {
          "model_module": "@jupyter-widgets/controls",
          "model_module_version": "1.5.0",
          "model_name": "DescriptionStyleModel",
          "state": {
            "_model_module": "@jupyter-widgets/controls",
            "_model_module_version": "1.5.0",
            "_model_name": "DescriptionStyleModel",
            "_view_count": null,
            "_view_module": "@jupyter-widgets/base",
            "_view_module_version": "1.2.0",
            "_view_name": "StyleView",
            "description_width": ""
          }
        },
        "0de2c36efd354cb098436c7cd2d7c576": {
          "model_module": "@jupyter-widgets/controls",
          "model_module_version": "1.5.0",
          "model_name": "DescriptionStyleModel",
          "state": {
            "_model_module": "@jupyter-widgets/controls",
            "_model_module_version": "1.5.0",
            "_model_name": "DescriptionStyleModel",
            "_view_count": null,
            "_view_module": "@jupyter-widgets/base",
            "_view_module_version": "1.2.0",
            "_view_name": "StyleView",
            "description_width": ""
          }
        },
        "112482c69009486680eb018cd352e1ce": {
          "model_module": "@jupyter-widgets/base",
          "model_module_version": "1.2.0",
          "model_name": "LayoutModel",
          "state": {
            "_model_module": "@jupyter-widgets/base",
            "_model_module_version": "1.2.0",
            "_model_name": "LayoutModel",
            "_view_count": null,
            "_view_module": "@jupyter-widgets/base",
            "_view_module_version": "1.2.0",
            "_view_name": "LayoutView",
            "align_content": null,
            "align_items": null,
            "align_self": null,
            "border": null,
            "bottom": null,
            "display": null,
            "flex": null,
            "flex_flow": null,
            "grid_area": null,
            "grid_auto_columns": null,
            "grid_auto_flow": null,
            "grid_auto_rows": null,
            "grid_column": null,
            "grid_gap": null,
            "grid_row": null,
            "grid_template_areas": null,
            "grid_template_columns": null,
            "grid_template_rows": null,
            "height": null,
            "justify_content": null,
            "justify_items": null,
            "left": null,
            "margin": null,
            "max_height": null,
            "max_width": null,
            "min_height": null,
            "min_width": null,
            "object_fit": null,
            "object_position": null,
            "order": null,
            "overflow": null,
            "overflow_x": null,
            "overflow_y": null,
            "padding": null,
            "right": null,
            "top": null,
            "visibility": null,
            "width": null
          }
        },
        "14123aef5e75492c8a83c258478210f7": {
          "model_module": "@jupyter-widgets/controls",
          "model_module_version": "1.5.0",
          "model_name": "HTMLModel",
          "state": {
            "_dom_classes": [],
            "_model_module": "@jupyter-widgets/controls",
            "_model_module_version": "1.5.0",
            "_model_name": "HTMLModel",
            "_view_count": null,
            "_view_module": "@jupyter-widgets/controls",
            "_view_module_version": "1.5.0",
            "_view_name": "HTMLView",
            "description": "",
            "description_tooltip": null,
            "layout": "IPY_MODEL_36df5adf0e2c4babbad741681f678114",
            "placeholder": "​",
            "style": "IPY_MODEL_84c7701a039f413b88df79444be4e93f",
            "value": " 685k/685k [00:00&lt;00:00, 6.56MB/s]"
          }
        },
        "1f63134a8b8c43b4903e451294d49346": {
          "model_module": "@jupyter-widgets/controls",
          "model_module_version": "1.5.0",
          "model_name": "FloatProgressModel",
          "state": {
            "_dom_classes": [],
            "_model_module": "@jupyter-widgets/controls",
            "_model_module_version": "1.5.0",
            "_model_name": "FloatProgressModel",
            "_view_count": null,
            "_view_module": "@jupyter-widgets/controls",
            "_view_module_version": "1.5.0",
            "_view_name": "ProgressView",
            "bar_style": "success",
            "description": "",
            "description_tooltip": null,
            "layout": "IPY_MODEL_62b3918aa94a4f399bac047097fcdea8",
            "max": 4358,
            "min": 0,
            "orientation": "horizontal",
            "style": "IPY_MODEL_edc5e19256d748af8c91cb22f7532e42",
            "value": 4358
          }
        },
        "2998863008ab47199b1d03b753a61d3d": {
          "model_module": "@jupyter-widgets/base",
          "model_module_version": "1.2.0",
          "model_name": "LayoutModel",
          "state": {
            "_model_module": "@jupyter-widgets/base",
            "_model_module_version": "1.2.0",
            "_model_name": "LayoutModel",
            "_view_count": null,
            "_view_module": "@jupyter-widgets/base",
            "_view_module_version": "1.2.0",
            "_view_name": "LayoutView",
            "align_content": null,
            "align_items": null,
            "align_self": null,
            "border": null,
            "bottom": null,
            "display": null,
            "flex": null,
            "flex_flow": null,
            "grid_area": null,
            "grid_auto_columns": null,
            "grid_auto_flow": null,
            "grid_auto_rows": null,
            "grid_column": null,
            "grid_gap": null,
            "grid_row": null,
            "grid_template_areas": null,
            "grid_template_columns": null,
            "grid_template_rows": null,
            "height": null,
            "justify_content": null,
            "justify_items": null,
            "left": null,
            "margin": null,
            "max_height": null,
            "max_width": null,
            "min_height": null,
            "min_width": null,
            "object_fit": null,
            "object_position": null,
            "order": null,
            "overflow": null,
            "overflow_x": null,
            "overflow_y": null,
            "padding": null,
            "right": null,
            "top": null,
            "visibility": null,
            "width": null
          }
        },
        "2ac20bd064044810a05051dbc134630a": {
          "model_module": "@jupyter-widgets/base",
          "model_module_version": "1.2.0",
          "model_name": "LayoutModel",
          "state": {
            "_model_module": "@jupyter-widgets/base",
            "_model_module_version": "1.2.0",
            "_model_name": "LayoutModel",
            "_view_count": null,
            "_view_module": "@jupyter-widgets/base",
            "_view_module_version": "1.2.0",
            "_view_name": "LayoutView",
            "align_content": null,
            "align_items": null,
            "align_self": null,
            "border": null,
            "bottom": null,
            "display": null,
            "flex": null,
            "flex_flow": null,
            "grid_area": null,
            "grid_auto_columns": null,
            "grid_auto_flow": null,
            "grid_auto_rows": null,
            "grid_column": null,
            "grid_gap": null,
            "grid_row": null,
            "grid_template_areas": null,
            "grid_template_columns": null,
            "grid_template_rows": null,
            "height": null,
            "justify_content": null,
            "justify_items": null,
            "left": null,
            "margin": null,
            "max_height": null,
            "max_width": null,
            "min_height": null,
            "min_width": null,
            "object_fit": null,
            "object_position": null,
            "order": null,
            "overflow": null,
            "overflow_x": null,
            "overflow_y": null,
            "padding": null,
            "right": null,
            "top": null,
            "visibility": null,
            "width": null
          }
        },
        "320174435e6349579a7081e2a45dadff": {
          "model_module": "@jupyter-widgets/controls",
          "model_module_version": "1.5.0",
          "model_name": "HBoxModel",
          "state": {
            "_dom_classes": [],
            "_model_module": "@jupyter-widgets/controls",
            "_model_module_version": "1.5.0",
            "_model_name": "HBoxModel",
            "_view_count": null,
            "_view_module": "@jupyter-widgets/controls",
            "_view_module_version": "1.5.0",
            "_view_name": "HBoxView",
            "box_style": "",
            "children": [
              "IPY_MODEL_745dcc46b1f04a268b2c98d07a1b7378",
              "IPY_MODEL_f37e850073c348209435df8a536b2c80",
              "IPY_MODEL_14123aef5e75492c8a83c258478210f7"
            ],
            "layout": "IPY_MODEL_86935b37223c4617b363ea3573d5e4c3"
          }
        },
        "350e58add1e1441cbfab4a8feaf837b1": {
          "model_module": "@jupyter-widgets/base",
          "model_module_version": "1.2.0",
          "model_name": "LayoutModel",
          "state": {
            "_model_module": "@jupyter-widgets/base",
            "_model_module_version": "1.2.0",
            "_model_name": "LayoutModel",
            "_view_count": null,
            "_view_module": "@jupyter-widgets/base",
            "_view_module_version": "1.2.0",
            "_view_name": "LayoutView",
            "align_content": null,
            "align_items": null,
            "align_self": null,
            "border": null,
            "bottom": null,
            "display": null,
            "flex": null,
            "flex_flow": null,
            "grid_area": null,
            "grid_auto_columns": null,
            "grid_auto_flow": null,
            "grid_auto_rows": null,
            "grid_column": null,
            "grid_gap": null,
            "grid_row": null,
            "grid_template_areas": null,
            "grid_template_columns": null,
            "grid_template_rows": null,
            "height": null,
            "justify_content": null,
            "justify_items": null,
            "left": null,
            "margin": null,
            "max_height": null,
            "max_width": null,
            "min_height": null,
            "min_width": null,
            "object_fit": null,
            "object_position": null,
            "order": null,
            "overflow": null,
            "overflow_x": null,
            "overflow_y": null,
            "padding": null,
            "right": null,
            "top": null,
            "visibility": null,
            "width": null
          }
        },
        "36df5adf0e2c4babbad741681f678114": {
          "model_module": "@jupyter-widgets/base",
          "model_module_version": "1.2.0",
          "model_name": "LayoutModel",
          "state": {
            "_model_module": "@jupyter-widgets/base",
            "_model_module_version": "1.2.0",
            "_model_name": "LayoutModel",
            "_view_count": null,
            "_view_module": "@jupyter-widgets/base",
            "_view_module_version": "1.2.0",
            "_view_name": "LayoutView",
            "align_content": null,
            "align_items": null,
            "align_self": null,
            "border": null,
            "bottom": null,
            "display": null,
            "flex": null,
            "flex_flow": null,
            "grid_area": null,
            "grid_auto_columns": null,
            "grid_auto_flow": null,
            "grid_auto_rows": null,
            "grid_column": null,
            "grid_gap": null,
            "grid_row": null,
            "grid_template_areas": null,
            "grid_template_columns": null,
            "grid_template_rows": null,
            "height": null,
            "justify_content": null,
            "justify_items": null,
            "left": null,
            "margin": null,
            "max_height": null,
            "max_width": null,
            "min_height": null,
            "min_width": null,
            "object_fit": null,
            "object_position": null,
            "order": null,
            "overflow": null,
            "overflow_x": null,
            "overflow_y": null,
            "padding": null,
            "right": null,
            "top": null,
            "visibility": null,
            "width": null
          }
        },
        "37bf8cbb4b77495b9cecd164135603bf": {
          "model_module": "@jupyter-widgets/controls",
          "model_module_version": "1.5.0",
          "model_name": "HTMLModel",
          "state": {
            "_dom_classes": [],
            "_model_module": "@jupyter-widgets/controls",
            "_model_module_version": "1.5.0",
            "_model_name": "HTMLModel",
            "_view_count": null,
            "_view_module": "@jupyter-widgets/controls",
            "_view_module_version": "1.5.0",
            "_view_name": "HTMLView",
            "description": "",
            "description_tooltip": null,
            "layout": "IPY_MODEL_c850e5fef03a4e13868b882eaf1da27f",
            "placeholder": "​",
            "style": "IPY_MODEL_4e040134604b45798bb913f4e65a54a5",
            "value": "train-00000-of-00001.parquet: 100%"
          }
        },
        "3f3f8ce68b1247bbb2af1ef8b1cf04db": {
          "model_module": "@jupyter-widgets/controls",
          "model_module_version": "1.5.0",
          "model_name": "ProgressStyleModel",
          "state": {
            "_model_module": "@jupyter-widgets/controls",
            "_model_module_version": "1.5.0",
            "_model_name": "ProgressStyleModel",
            "_view_count": null,
            "_view_module": "@jupyter-widgets/base",
            "_view_module_version": "1.2.0",
            "_view_name": "StyleView",
            "bar_color": null,
            "description_width": ""
          }
        },
        "3fdaac6cb07046d88340ac3a1f14105a": {
          "model_module": "@jupyter-widgets/base",
          "model_module_version": "1.2.0",
          "model_name": "LayoutModel",
          "state": {
            "_model_module": "@jupyter-widgets/base",
            "_model_module_version": "1.2.0",
            "_model_name": "LayoutModel",
            "_view_count": null,
            "_view_module": "@jupyter-widgets/base",
            "_view_module_version": "1.2.0",
            "_view_name": "LayoutView",
            "align_content": null,
            "align_items": null,
            "align_self": null,
            "border": null,
            "bottom": null,
            "display": null,
            "flex": null,
            "flex_flow": null,
            "grid_area": null,
            "grid_auto_columns": null,
            "grid_auto_flow": null,
            "grid_auto_rows": null,
            "grid_column": null,
            "grid_gap": null,
            "grid_row": null,
            "grid_template_areas": null,
            "grid_template_columns": null,
            "grid_template_rows": null,
            "height": null,
            "justify_content": null,
            "justify_items": null,
            "left": null,
            "margin": null,
            "max_height": null,
            "max_width": null,
            "min_height": null,
            "min_width": null,
            "object_fit": null,
            "object_position": null,
            "order": null,
            "overflow": null,
            "overflow_x": null,
            "overflow_y": null,
            "padding": null,
            "right": null,
            "top": null,
            "visibility": null,
            "width": null
          }
        },
        "45c4829c794641559798440fcffca0e0": {
          "model_module": "@jupyter-widgets/base",
          "model_module_version": "1.2.0",
          "model_name": "LayoutModel",
          "state": {
            "_model_module": "@jupyter-widgets/base",
            "_model_module_version": "1.2.0",
            "_model_name": "LayoutModel",
            "_view_count": null,
            "_view_module": "@jupyter-widgets/base",
            "_view_module_version": "1.2.0",
            "_view_name": "LayoutView",
            "align_content": null,
            "align_items": null,
            "align_self": null,
            "border": null,
            "bottom": null,
            "display": null,
            "flex": null,
            "flex_flow": null,
            "grid_area": null,
            "grid_auto_columns": null,
            "grid_auto_flow": null,
            "grid_auto_rows": null,
            "grid_column": null,
            "grid_gap": null,
            "grid_row": null,
            "grid_template_areas": null,
            "grid_template_columns": null,
            "grid_template_rows": null,
            "height": null,
            "justify_content": null,
            "justify_items": null,
            "left": null,
            "margin": null,
            "max_height": null,
            "max_width": null,
            "min_height": null,
            "min_width": null,
            "object_fit": null,
            "object_position": null,
            "order": null,
            "overflow": null,
            "overflow_x": null,
            "overflow_y": null,
            "padding": null,
            "right": null,
            "top": null,
            "visibility": null,
            "width": null
          }
        },
        "4e040134604b45798bb913f4e65a54a5": {
          "model_module": "@jupyter-widgets/controls",
          "model_module_version": "1.5.0",
          "model_name": "DescriptionStyleModel",
          "state": {
            "_model_module": "@jupyter-widgets/controls",
            "_model_module_version": "1.5.0",
            "_model_name": "DescriptionStyleModel",
            "_view_count": null,
            "_view_module": "@jupyter-widgets/base",
            "_view_module_version": "1.2.0",
            "_view_name": "StyleView",
            "description_width": ""
          }
        },
        "4e862d18a8d84ed88992b88405785e71": {
          "model_module": "@jupyter-widgets/controls",
          "model_module_version": "1.5.0",
          "model_name": "HTMLModel",
          "state": {
            "_dom_classes": [],
            "_model_module": "@jupyter-widgets/controls",
            "_model_module_version": "1.5.0",
            "_model_name": "HTMLModel",
            "_view_count": null,
            "_view_module": "@jupyter-widgets/controls",
            "_view_module_version": "1.5.0",
            "_view_name": "HTMLView",
            "description": "",
            "description_tooltip": null,
            "layout": "IPY_MODEL_a63a6d974680454aa4c147b3ed9ca9bf",
            "placeholder": "​",
            "style": "IPY_MODEL_c4a8f54f1b7f498c96ee4f078a7b5008",
            "value": "Generating test split: 100%"
          }
        },
        "551e7041dd514a85b0c354ad9142e871": {
          "model_module": "@jupyter-widgets/base",
          "model_module_version": "1.2.0",
          "model_name": "LayoutModel",
          "state": {
            "_model_module": "@jupyter-widgets/base",
            "_model_module_version": "1.2.0",
            "_model_name": "LayoutModel",
            "_view_count": null,
            "_view_module": "@jupyter-widgets/base",
            "_view_module_version": "1.2.0",
            "_view_name": "LayoutView",
            "align_content": null,
            "align_items": null,
            "align_self": null,
            "border": null,
            "bottom": null,
            "display": null,
            "flex": null,
            "flex_flow": null,
            "grid_area": null,
            "grid_auto_columns": null,
            "grid_auto_flow": null,
            "grid_auto_rows": null,
            "grid_column": null,
            "grid_gap": null,
            "grid_row": null,
            "grid_template_areas": null,
            "grid_template_columns": null,
            "grid_template_rows": null,
            "height": null,
            "justify_content": null,
            "justify_items": null,
            "left": null,
            "margin": null,
            "max_height": null,
            "max_width": null,
            "min_height": null,
            "min_width": null,
            "object_fit": null,
            "object_position": null,
            "order": null,
            "overflow": null,
            "overflow_x": null,
            "overflow_y": null,
            "padding": null,
            "right": null,
            "top": null,
            "visibility": null,
            "width": null
          }
        },
        "576cf7c77e174e758c8dc3e96bc71210": {
          "model_module": "@jupyter-widgets/controls",
          "model_module_version": "1.5.0",
          "model_name": "ProgressStyleModel",
          "state": {
            "_model_module": "@jupyter-widgets/controls",
            "_model_module_version": "1.5.0",
            "_model_name": "ProgressStyleModel",
            "_view_count": null,
            "_view_module": "@jupyter-widgets/base",
            "_view_module_version": "1.2.0",
            "_view_name": "StyleView",
            "bar_color": null,
            "description_width": ""
          }
        },
        "5bc84dae805b4faa9e47fa13b2941873": {
          "model_module": "@jupyter-widgets/base",
          "model_module_version": "1.2.0",
          "model_name": "LayoutModel",
          "state": {
            "_model_module": "@jupyter-widgets/base",
            "_model_module_version": "1.2.0",
            "_model_name": "LayoutModel",
            "_view_count": null,
            "_view_module": "@jupyter-widgets/base",
            "_view_module_version": "1.2.0",
            "_view_name": "LayoutView",
            "align_content": null,
            "align_items": null,
            "align_self": null,
            "border": null,
            "bottom": null,
            "display": null,
            "flex": null,
            "flex_flow": null,
            "grid_area": null,
            "grid_auto_columns": null,
            "grid_auto_flow": null,
            "grid_auto_rows": null,
            "grid_column": null,
            "grid_gap": null,
            "grid_row": null,
            "grid_template_areas": null,
            "grid_template_columns": null,
            "grid_template_rows": null,
            "height": null,
            "justify_content": null,
            "justify_items": null,
            "left": null,
            "margin": null,
            "max_height": null,
            "max_width": null,
            "min_height": null,
            "min_width": null,
            "object_fit": null,
            "object_position": null,
            "order": null,
            "overflow": null,
            "overflow_x": null,
            "overflow_y": null,
            "padding": null,
            "right": null,
            "top": null,
            "visibility": null,
            "width": null
          }
        },
        "62b3918aa94a4f399bac047097fcdea8": {
          "model_module": "@jupyter-widgets/base",
          "model_module_version": "1.2.0",
          "model_name": "LayoutModel",
          "state": {
            "_model_module": "@jupyter-widgets/base",
            "_model_module_version": "1.2.0",
            "_model_name": "LayoutModel",
            "_view_count": null,
            "_view_module": "@jupyter-widgets/base",
            "_view_module_version": "1.2.0",
            "_view_name": "LayoutView",
            "align_content": null,
            "align_items": null,
            "align_self": null,
            "border": null,
            "bottom": null,
            "display": null,
            "flex": null,
            "flex_flow": null,
            "grid_area": null,
            "grid_auto_columns": null,
            "grid_auto_flow": null,
            "grid_auto_rows": null,
            "grid_column": null,
            "grid_gap": null,
            "grid_row": null,
            "grid_template_areas": null,
            "grid_template_columns": null,
            "grid_template_rows": null,
            "height": null,
            "justify_content": null,
            "justify_items": null,
            "left": null,
            "margin": null,
            "max_height": null,
            "max_width": null,
            "min_height": null,
            "min_width": null,
            "object_fit": null,
            "object_position": null,
            "order": null,
            "overflow": null,
            "overflow_x": null,
            "overflow_y": null,
            "padding": null,
            "right": null,
            "top": null,
            "visibility": null,
            "width": null
          }
        },
        "64d0df5bac444529833be96361cb90e0": {
          "model_module": "@jupyter-widgets/controls",
          "model_module_version": "1.5.0",
          "model_name": "DescriptionStyleModel",
          "state": {
            "_model_module": "@jupyter-widgets/controls",
            "_model_module_version": "1.5.0",
            "_model_name": "DescriptionStyleModel",
            "_view_count": null,
            "_view_module": "@jupyter-widgets/base",
            "_view_module_version": "1.2.0",
            "_view_name": "StyleView",
            "description_width": ""
          }
        },
        "650f889f6efb417f8437af8735f2c067": {
          "model_module": "@jupyter-widgets/controls",
          "model_module_version": "1.5.0",
          "model_name": "HTMLModel",
          "state": {
            "_dom_classes": [],
            "_model_module": "@jupyter-widgets/controls",
            "_model_module_version": "1.5.0",
            "_model_name": "HTMLModel",
            "_view_count": null,
            "_view_module": "@jupyter-widgets/controls",
            "_view_module_version": "1.5.0",
            "_view_name": "HTMLView",
            "description": "",
            "description_tooltip": null,
            "layout": "IPY_MODEL_45c4829c794641559798440fcffca0e0",
            "placeholder": "​",
            "style": "IPY_MODEL_6d77395fd9d246a098fdca4c77d93302",
            "value": " 3760/3760 [00:00&lt;00:00, 74569.99 examples/s]"
          }
        },
        "6ad4fdcb18fd4c1c80b6cb98f0f5cd82": {
          "model_module": "@jupyter-widgets/controls",
          "model_module_version": "1.5.0",
          "model_name": "ProgressStyleModel",
          "state": {
            "_model_module": "@jupyter-widgets/controls",
            "_model_module_version": "1.5.0",
            "_model_name": "ProgressStyleModel",
            "_view_count": null,
            "_view_module": "@jupyter-widgets/base",
            "_view_module_version": "1.2.0",
            "_view_name": "StyleView",
            "bar_color": null,
            "description_width": ""
          }
        },
        "6afdf5af7ba64ac58881b911e2af1806": {
          "model_module": "@jupyter-widgets/controls",
          "model_module_version": "1.5.0",
          "model_name": "DescriptionStyleModel",
          "state": {
            "_model_module": "@jupyter-widgets/controls",
            "_model_module_version": "1.5.0",
            "_model_name": "DescriptionStyleModel",
            "_view_count": null,
            "_view_module": "@jupyter-widgets/base",
            "_view_module_version": "1.2.0",
            "_view_name": "StyleView",
            "description_width": ""
          }
        },
        "6d77395fd9d246a098fdca4c77d93302": {
          "model_module": "@jupyter-widgets/controls",
          "model_module_version": "1.5.0",
          "model_name": "DescriptionStyleModel",
          "state": {
            "_model_module": "@jupyter-widgets/controls",
            "_model_module_version": "1.5.0",
            "_model_name": "DescriptionStyleModel",
            "_view_count": null,
            "_view_module": "@jupyter-widgets/base",
            "_view_module_version": "1.2.0",
            "_view_name": "StyleView",
            "description_width": ""
          }
        },
        "70f178cdb2734733aa8d1efd1bd44be0": {
          "model_module": "@jupyter-widgets/controls",
          "model_module_version": "1.5.0",
          "model_name": "FloatProgressModel",
          "state": {
            "_dom_classes": [],
            "_model_module": "@jupyter-widgets/controls",
            "_model_module_version": "1.5.0",
            "_model_name": "FloatProgressModel",
            "_view_count": null,
            "_view_module": "@jupyter-widgets/controls",
            "_view_module_version": "1.5.0",
            "_view_name": "ProgressView",
            "bar_style": "success",
            "description": "",
            "description_tooltip": null,
            "layout": "IPY_MODEL_9e732a02671f4edea940ba1706a77da8",
            "max": 36718,
            "min": 0,
            "orientation": "horizontal",
            "style": "IPY_MODEL_576cf7c77e174e758c8dc3e96bc71210",
            "value": 36718
          }
        },
        "745dcc46b1f04a268b2c98d07a1b7378": {
          "model_module": "@jupyter-widgets/controls",
          "model_module_version": "1.5.0",
          "model_name": "HTMLModel",
          "state": {
            "_dom_classes": [],
            "_model_module": "@jupyter-widgets/controls",
            "_model_module_version": "1.5.0",
            "_model_name": "HTMLModel",
            "_view_count": null,
            "_view_module": "@jupyter-widgets/controls",
            "_view_module_version": "1.5.0",
            "_view_name": "HTMLView",
            "description": "",
            "description_tooltip": null,
            "layout": "IPY_MODEL_af60ce07b12141198dcd346e2e4d73de",
            "placeholder": "​",
            "style": "IPY_MODEL_7684087563e5481d90fa6a7a12ee9fbf",
            "value": "test-00000-of-00001.parquet: 100%"
          }
        },
        "7684087563e5481d90fa6a7a12ee9fbf": {
          "model_module": "@jupyter-widgets/controls",
          "model_module_version": "1.5.0",
          "model_name": "DescriptionStyleModel",
          "state": {
            "_model_module": "@jupyter-widgets/controls",
            "_model_module_version": "1.5.0",
            "_model_name": "DescriptionStyleModel",
            "_view_count": null,
            "_view_module": "@jupyter-widgets/base",
            "_view_module_version": "1.2.0",
            "_view_name": "StyleView",
            "description_width": ""
          }
        },
        "77f8b8af6f794c6ba168fde81c2fa276": {
          "model_module": "@jupyter-widgets/controls",
          "model_module_version": "1.5.0",
          "model_name": "HBoxModel",
          "state": {
            "_dom_classes": [],
            "_model_module": "@jupyter-widgets/controls",
            "_model_module_version": "1.5.0",
            "_model_name": "HBoxModel",
            "_view_count": null,
            "_view_module": "@jupyter-widgets/controls",
            "_view_module_version": "1.5.0",
            "_view_name": "HBoxView",
            "box_style": "",
            "children": [
              "IPY_MODEL_a38912b8c7894fd5820ebb332f7e5f9a",
              "IPY_MODEL_f5f2147defc9454fb7b82ca5e397e47b",
              "IPY_MODEL_e81859fad9d54c279248c6eed1201bc8"
            ],
            "layout": "IPY_MODEL_112482c69009486680eb018cd352e1ce"
          }
        },
        "797a9b721bfc4390ad0ed1124c615d28": {
          "model_module": "@jupyter-widgets/controls",
          "model_module_version": "1.5.0",
          "model_name": "DescriptionStyleModel",
          "state": {
            "_model_module": "@jupyter-widgets/controls",
            "_model_module_version": "1.5.0",
            "_model_name": "DescriptionStyleModel",
            "_view_count": null,
            "_view_module": "@jupyter-widgets/base",
            "_view_module_version": "1.2.0",
            "_view_name": "StyleView",
            "description_width": ""
          }
        },
        "8317c3604d81471cbc1cb99abcecc8a9": {
          "model_module": "@jupyter-widgets/controls",
          "model_module_version": "1.5.0",
          "model_name": "HTMLModel",
          "state": {
            "_dom_classes": [],
            "_model_module": "@jupyter-widgets/controls",
            "_model_module_version": "1.5.0",
            "_model_name": "HTMLModel",
            "_view_count": null,
            "_view_module": "@jupyter-widgets/controls",
            "_view_module_version": "1.5.0",
            "_view_name": "HTMLView",
            "description": "",
            "description_tooltip": null,
            "layout": "IPY_MODEL_bc1536617bb94d369a0d0e46091f03c5",
            "placeholder": "​",
            "style": "IPY_MODEL_035bed0d0620420ba1dfb8f1e5f358db",
            "value": "Generating train split: 100%"
          }
        },
        "84c7701a039f413b88df79444be4e93f": {
          "model_module": "@jupyter-widgets/controls",
          "model_module_version": "1.5.0",
          "model_name": "DescriptionStyleModel",
          "state": {
            "_model_module": "@jupyter-widgets/controls",
            "_model_module_version": "1.5.0",
            "_model_name": "DescriptionStyleModel",
            "_view_count": null,
            "_view_module": "@jupyter-widgets/base",
            "_view_module_version": "1.2.0",
            "_view_name": "StyleView",
            "description_width": ""
          }
        },
        "86935b37223c4617b363ea3573d5e4c3": {
          "model_module": "@jupyter-widgets/base",
          "model_module_version": "1.2.0",
          "model_name": "LayoutModel",
          "state": {
            "_model_module": "@jupyter-widgets/base",
            "_model_module_version": "1.2.0",
            "_model_name": "LayoutModel",
            "_view_count": null,
            "_view_module": "@jupyter-widgets/base",
            "_view_module_version": "1.2.0",
            "_view_name": "LayoutView",
            "align_content": null,
            "align_items": null,
            "align_self": null,
            "border": null,
            "bottom": null,
            "display": null,
            "flex": null,
            "flex_flow": null,
            "grid_area": null,
            "grid_auto_columns": null,
            "grid_auto_flow": null,
            "grid_auto_rows": null,
            "grid_column": null,
            "grid_gap": null,
            "grid_row": null,
            "grid_template_areas": null,
            "grid_template_columns": null,
            "grid_template_rows": null,
            "height": null,
            "justify_content": null,
            "justify_items": null,
            "left": null,
            "margin": null,
            "max_height": null,
            "max_width": null,
            "min_height": null,
            "min_width": null,
            "object_fit": null,
            "object_position": null,
            "order": null,
            "overflow": null,
            "overflow_x": null,
            "overflow_y": null,
            "padding": null,
            "right": null,
            "top": null,
            "visibility": null,
            "width": null
          }
        },
        "88248cde031344fbaca4819504efd897": {
          "model_module": "@jupyter-widgets/controls",
          "model_module_version": "1.5.0",
          "model_name": "HBoxModel",
          "state": {
            "_dom_classes": [],
            "_model_module": "@jupyter-widgets/controls",
            "_model_module_version": "1.5.0",
            "_model_name": "HBoxModel",
            "_view_count": null,
            "_view_module": "@jupyter-widgets/controls",
            "_view_module_version": "1.5.0",
            "_view_name": "HBoxView",
            "box_style": "",
            "children": [
              "IPY_MODEL_e0d4d50238ad4f9399b08324e86fc1db",
              "IPY_MODEL_da3124286d7941c1806254b6e6523d4c",
              "IPY_MODEL_02b096010ea94dd4b4f3bd30b9e6d264"
            ],
            "layout": "IPY_MODEL_8b3f81ad55b84ca5bb9f23eff481547e"
          }
        },
        "8b3f81ad55b84ca5bb9f23eff481547e": {
          "model_module": "@jupyter-widgets/base",
          "model_module_version": "1.2.0",
          "model_name": "LayoutModel",
          "state": {
            "_model_module": "@jupyter-widgets/base",
            "_model_module_version": "1.2.0",
            "_model_name": "LayoutModel",
            "_view_count": null,
            "_view_module": "@jupyter-widgets/base",
            "_view_module_version": "1.2.0",
            "_view_name": "LayoutView",
            "align_content": null,
            "align_items": null,
            "align_self": null,
            "border": null,
            "bottom": null,
            "display": null,
            "flex": null,
            "flex_flow": null,
            "grid_area": null,
            "grid_auto_columns": null,
            "grid_auto_flow": null,
            "grid_auto_rows": null,
            "grid_column": null,
            "grid_gap": null,
            "grid_row": null,
            "grid_template_areas": null,
            "grid_template_columns": null,
            "grid_template_rows": null,
            "height": null,
            "justify_content": null,
            "justify_items": null,
            "left": null,
            "margin": null,
            "max_height": null,
            "max_width": null,
            "min_height": null,
            "min_width": null,
            "object_fit": null,
            "object_position": null,
            "order": null,
            "overflow": null,
            "overflow_x": null,
            "overflow_y": null,
            "padding": null,
            "right": null,
            "top": null,
            "visibility": null,
            "width": null
          }
        },
        "8bdb548d82394bf691cd2e3b2cfc3072": {
          "model_module": "@jupyter-widgets/controls",
          "model_module_version": "1.5.0",
          "model_name": "DescriptionStyleModel",
          "state": {
            "_model_module": "@jupyter-widgets/controls",
            "_model_module_version": "1.5.0",
            "_model_name": "DescriptionStyleModel",
            "_view_count": null,
            "_view_module": "@jupyter-widgets/base",
            "_view_module_version": "1.2.0",
            "_view_name": "StyleView",
            "description_width": ""
          }
        },
        "8c9ce3332c08416bbb0fb59087899315": {
          "model_module": "@jupyter-widgets/controls",
          "model_module_version": "1.5.0",
          "model_name": "HBoxModel",
          "state": {
            "_dom_classes": [],
            "_model_module": "@jupyter-widgets/controls",
            "_model_module_version": "1.5.0",
            "_model_name": "HBoxModel",
            "_view_count": null,
            "_view_module": "@jupyter-widgets/controls",
            "_view_module_version": "1.5.0",
            "_view_name": "HBoxView",
            "box_style": "",
            "children": [
              "IPY_MODEL_8317c3604d81471cbc1cb99abcecc8a9",
              "IPY_MODEL_70f178cdb2734733aa8d1efd1bd44be0",
              "IPY_MODEL_f5867cbe94a64ee6b964b00f2218b1d4"
            ],
            "layout": "IPY_MODEL_2ac20bd064044810a05051dbc134630a"
          }
        },
        "96e4cbb0e9a04f328a3e82194ab36404": {
          "model_module": "@jupyter-widgets/base",
          "model_module_version": "1.2.0",
          "model_name": "LayoutModel",
          "state": {
            "_model_module": "@jupyter-widgets/base",
            "_model_module_version": "1.2.0",
            "_model_name": "LayoutModel",
            "_view_count": null,
            "_view_module": "@jupyter-widgets/base",
            "_view_module_version": "1.2.0",
            "_view_name": "LayoutView",
            "align_content": null,
            "align_items": null,
            "align_self": null,
            "border": null,
            "bottom": null,
            "display": null,
            "flex": null,
            "flex_flow": null,
            "grid_area": null,
            "grid_auto_columns": null,
            "grid_auto_flow": null,
            "grid_auto_rows": null,
            "grid_column": null,
            "grid_gap": null,
            "grid_row": null,
            "grid_template_areas": null,
            "grid_template_columns": null,
            "grid_template_rows": null,
            "height": null,
            "justify_content": null,
            "justify_items": null,
            "left": null,
            "margin": null,
            "max_height": null,
            "max_width": null,
            "min_height": null,
            "min_width": null,
            "object_fit": null,
            "object_position": null,
            "order": null,
            "overflow": null,
            "overflow_x": null,
            "overflow_y": null,
            "padding": null,
            "right": null,
            "top": null,
            "visibility": null,
            "width": null
          }
        },
        "97730cf79fd54ebc8e168ffad3c93b1c": {
          "model_module": "@jupyter-widgets/controls",
          "model_module_version": "1.5.0",
          "model_name": "DescriptionStyleModel",
          "state": {
            "_model_module": "@jupyter-widgets/controls",
            "_model_module_version": "1.5.0",
            "_model_name": "DescriptionStyleModel",
            "_view_count": null,
            "_view_module": "@jupyter-widgets/base",
            "_view_module_version": "1.2.0",
            "_view_name": "StyleView",
            "description_width": ""
          }
        },
        "9d030c98567e427b8253e048133e4988": {
          "model_module": "@jupyter-widgets/controls",
          "model_module_version": "1.5.0",
          "model_name": "FloatProgressModel",
          "state": {
            "_dom_classes": [],
            "_model_module": "@jupyter-widgets/controls",
            "_model_module_version": "1.5.0",
            "_model_name": "FloatProgressModel",
            "_view_count": null,
            "_view_module": "@jupyter-widgets/controls",
            "_view_module_version": "1.5.0",
            "_view_name": "ProgressView",
            "bar_style": "success",
            "description": "",
            "description_tooltip": null,
            "layout": "IPY_MODEL_350e58add1e1441cbfab4a8feaf837b1",
            "max": 6068114,
            "min": 0,
            "orientation": "horizontal",
            "style": "IPY_MODEL_6ad4fdcb18fd4c1c80b6cb98f0f5cd82",
            "value": 6068114
          }
        },
        "9db5367242e7443498020f1bd4f47b90": {
          "model_module": "@jupyter-widgets/base",
          "model_module_version": "1.2.0",
          "model_name": "LayoutModel",
          "state": {
            "_model_module": "@jupyter-widgets/base",
            "_model_module_version": "1.2.0",
            "_model_name": "LayoutModel",
            "_view_count": null,
            "_view_module": "@jupyter-widgets/base",
            "_view_module_version": "1.2.0",
            "_view_name": "LayoutView",
            "align_content": null,
            "align_items": null,
            "align_self": null,
            "border": null,
            "bottom": null,
            "display": null,
            "flex": null,
            "flex_flow": null,
            "grid_area": null,
            "grid_auto_columns": null,
            "grid_auto_flow": null,
            "grid_auto_rows": null,
            "grid_column": null,
            "grid_gap": null,
            "grid_row": null,
            "grid_template_areas": null,
            "grid_template_columns": null,
            "grid_template_rows": null,
            "height": null,
            "justify_content": null,
            "justify_items": null,
            "left": null,
            "margin": null,
            "max_height": null,
            "max_width": null,
            "min_height": null,
            "min_width": null,
            "object_fit": null,
            "object_position": null,
            "order": null,
            "overflow": null,
            "overflow_x": null,
            "overflow_y": null,
            "padding": null,
            "right": null,
            "top": null,
            "visibility": null,
            "width": null
          }
        },
        "9dbbd8f48e674f389c8f92be86044b35": {
          "model_module": "@jupyter-widgets/controls",
          "model_module_version": "1.5.0",
          "model_name": "FloatProgressModel",
          "state": {
            "_dom_classes": [],
            "_model_module": "@jupyter-widgets/controls",
            "_model_module_version": "1.5.0",
            "_model_name": "FloatProgressModel",
            "_view_count": null,
            "_view_module": "@jupyter-widgets/controls",
            "_view_module_version": "1.5.0",
            "_view_name": "ProgressView",
            "bar_style": "success",
            "description": "",
            "description_tooltip": null,
            "layout": "IPY_MODEL_baa1a914944449c3b7b38fad52af4edf",
            "max": 3760,
            "min": 0,
            "orientation": "horizontal",
            "style": "IPY_MODEL_a4d1cfb9583644f79a2a305cdc6a50be",
            "value": 3760
          }
        },
        "9e732a02671f4edea940ba1706a77da8": {
          "model_module": "@jupyter-widgets/base",
          "model_module_version": "1.2.0",
          "model_name": "LayoutModel",
          "state": {
            "_model_module": "@jupyter-widgets/base",
            "_model_module_version": "1.2.0",
            "_model_name": "LayoutModel",
            "_view_count": null,
            "_view_module": "@jupyter-widgets/base",
            "_view_module_version": "1.2.0",
            "_view_name": "LayoutView",
            "align_content": null,
            "align_items": null,
            "align_self": null,
            "border": null,
            "bottom": null,
            "display": null,
            "flex": null,
            "flex_flow": null,
            "grid_area": null,
            "grid_auto_columns": null,
            "grid_auto_flow": null,
            "grid_auto_rows": null,
            "grid_column": null,
            "grid_gap": null,
            "grid_row": null,
            "grid_template_areas": null,
            "grid_template_columns": null,
            "grid_template_rows": null,
            "height": null,
            "justify_content": null,
            "justify_items": null,
            "left": null,
            "margin": null,
            "max_height": null,
            "max_width": null,
            "min_height": null,
            "min_width": null,
            "object_fit": null,
            "object_position": null,
            "order": null,
            "overflow": null,
            "overflow_x": null,
            "overflow_y": null,
            "padding": null,
            "right": null,
            "top": null,
            "visibility": null,
            "width": null
          }
        },
        "a09b5fdbd49a4c5ebd28cdb630a6a397": {
          "model_module": "@jupyter-widgets/base",
          "model_module_version": "1.2.0",
          "model_name": "LayoutModel",
          "state": {
            "_model_module": "@jupyter-widgets/base",
            "_model_module_version": "1.2.0",
            "_model_name": "LayoutModel",
            "_view_count": null,
            "_view_module": "@jupyter-widgets/base",
            "_view_module_version": "1.2.0",
            "_view_name": "LayoutView",
            "align_content": null,
            "align_items": null,
            "align_self": null,
            "border": null,
            "bottom": null,
            "display": null,
            "flex": null,
            "flex_flow": null,
            "grid_area": null,
            "grid_auto_columns": null,
            "grid_auto_flow": null,
            "grid_auto_rows": null,
            "grid_column": null,
            "grid_gap": null,
            "grid_row": null,
            "grid_template_areas": null,
            "grid_template_columns": null,
            "grid_template_rows": null,
            "height": null,
            "justify_content": null,
            "justify_items": null,
            "left": null,
            "margin": null,
            "max_height": null,
            "max_width": null,
            "min_height": null,
            "min_width": null,
            "object_fit": null,
            "object_position": null,
            "order": null,
            "overflow": null,
            "overflow_x": null,
            "overflow_y": null,
            "padding": null,
            "right": null,
            "top": null,
            "visibility": null,
            "width": null
          }
        },
        "a38912b8c7894fd5820ebb332f7e5f9a": {
          "model_module": "@jupyter-widgets/controls",
          "model_module_version": "1.5.0",
          "model_name": "HTMLModel",
          "state": {
            "_dom_classes": [],
            "_model_module": "@jupyter-widgets/controls",
            "_model_module_version": "1.5.0",
            "_model_name": "HTMLModel",
            "_view_count": null,
            "_view_module": "@jupyter-widgets/controls",
            "_view_module_version": "1.5.0",
            "_view_name": "HTMLView",
            "description": "",
            "description_tooltip": null,
            "layout": "IPY_MODEL_cab3d91830704ed0b132f3a9aeec6b48",
            "placeholder": "​",
            "style": "IPY_MODEL_6afdf5af7ba64ac58881b911e2af1806",
            "value": "README.md: 100%"
          }
        },
        "a456d22298874f8f84c5d0e3ca5d59ee": {
          "model_module": "@jupyter-widgets/base",
          "model_module_version": "1.2.0",
          "model_name": "LayoutModel",
          "state": {
            "_model_module": "@jupyter-widgets/base",
            "_model_module_version": "1.2.0",
            "_model_name": "LayoutModel",
            "_view_count": null,
            "_view_module": "@jupyter-widgets/base",
            "_view_module_version": "1.2.0",
            "_view_name": "LayoutView",
            "align_content": null,
            "align_items": null,
            "align_self": null,
            "border": null,
            "bottom": null,
            "display": null,
            "flex": null,
            "flex_flow": null,
            "grid_area": null,
            "grid_auto_columns": null,
            "grid_auto_flow": null,
            "grid_auto_rows": null,
            "grid_column": null,
            "grid_gap": null,
            "grid_row": null,
            "grid_template_areas": null,
            "grid_template_columns": null,
            "grid_template_rows": null,
            "height": null,
            "justify_content": null,
            "justify_items": null,
            "left": null,
            "margin": null,
            "max_height": null,
            "max_width": null,
            "min_height": null,
            "min_width": null,
            "object_fit": null,
            "object_position": null,
            "order": null,
            "overflow": null,
            "overflow_x": null,
            "overflow_y": null,
            "padding": null,
            "right": null,
            "top": null,
            "visibility": null,
            "width": null
          }
        },
        "a4d1cfb9583644f79a2a305cdc6a50be": {
          "model_module": "@jupyter-widgets/controls",
          "model_module_version": "1.5.0",
          "model_name": "ProgressStyleModel",
          "state": {
            "_model_module": "@jupyter-widgets/controls",
            "_model_module_version": "1.5.0",
            "_model_name": "ProgressStyleModel",
            "_view_count": null,
            "_view_module": "@jupyter-widgets/base",
            "_view_module_version": "1.2.0",
            "_view_name": "StyleView",
            "bar_color": null,
            "description_width": ""
          }
        },
        "a63a6d974680454aa4c147b3ed9ca9bf": {
          "model_module": "@jupyter-widgets/base",
          "model_module_version": "1.2.0",
          "model_name": "LayoutModel",
          "state": {
            "_model_module": "@jupyter-widgets/base",
            "_model_module_version": "1.2.0",
            "_model_name": "LayoutModel",
            "_view_count": null,
            "_view_module": "@jupyter-widgets/base",
            "_view_module_version": "1.2.0",
            "_view_name": "LayoutView",
            "align_content": null,
            "align_items": null,
            "align_self": null,
            "border": null,
            "bottom": null,
            "display": null,
            "flex": null,
            "flex_flow": null,
            "grid_area": null,
            "grid_auto_columns": null,
            "grid_auto_flow": null,
            "grid_auto_rows": null,
            "grid_column": null,
            "grid_gap": null,
            "grid_row": null,
            "grid_template_areas": null,
            "grid_template_columns": null,
            "grid_template_rows": null,
            "height": null,
            "justify_content": null,
            "justify_items": null,
            "left": null,
            "margin": null,
            "max_height": null,
            "max_width": null,
            "min_height": null,
            "min_width": null,
            "object_fit": null,
            "object_position": null,
            "order": null,
            "overflow": null,
            "overflow_x": null,
            "overflow_y": null,
            "padding": null,
            "right": null,
            "top": null,
            "visibility": null,
            "width": null
          }
        },
        "a6d2d6a7f4624b2792480053af977834": {
          "model_module": "@jupyter-widgets/base",
          "model_module_version": "1.2.0",
          "model_name": "LayoutModel",
          "state": {
            "_model_module": "@jupyter-widgets/base",
            "_model_module_version": "1.2.0",
            "_model_name": "LayoutModel",
            "_view_count": null,
            "_view_module": "@jupyter-widgets/base",
            "_view_module_version": "1.2.0",
            "_view_name": "LayoutView",
            "align_content": null,
            "align_items": null,
            "align_self": null,
            "border": null,
            "bottom": null,
            "display": null,
            "flex": null,
            "flex_flow": null,
            "grid_area": null,
            "grid_auto_columns": null,
            "grid_auto_flow": null,
            "grid_auto_rows": null,
            "grid_column": null,
            "grid_gap": null,
            "grid_row": null,
            "grid_template_areas": null,
            "grid_template_columns": null,
            "grid_template_rows": null,
            "height": null,
            "justify_content": null,
            "justify_items": null,
            "left": null,
            "margin": null,
            "max_height": null,
            "max_width": null,
            "min_height": null,
            "min_width": null,
            "object_fit": null,
            "object_position": null,
            "order": null,
            "overflow": null,
            "overflow_x": null,
            "overflow_y": null,
            "padding": null,
            "right": null,
            "top": null,
            "visibility": null,
            "width": null
          }
        },
        "a87071aa91664438944d5af29808c17f": {
          "model_module": "@jupyter-widgets/base",
          "model_module_version": "1.2.0",
          "model_name": "LayoutModel",
          "state": {
            "_model_module": "@jupyter-widgets/base",
            "_model_module_version": "1.2.0",
            "_model_name": "LayoutModel",
            "_view_count": null,
            "_view_module": "@jupyter-widgets/base",
            "_view_module_version": "1.2.0",
            "_view_name": "LayoutView",
            "align_content": null,
            "align_items": null,
            "align_self": null,
            "border": null,
            "bottom": null,
            "display": null,
            "flex": null,
            "flex_flow": null,
            "grid_area": null,
            "grid_auto_columns": null,
            "grid_auto_flow": null,
            "grid_auto_rows": null,
            "grid_column": null,
            "grid_gap": null,
            "grid_row": null,
            "grid_template_areas": null,
            "grid_template_columns": null,
            "grid_template_rows": null,
            "height": null,
            "justify_content": null,
            "justify_items": null,
            "left": null,
            "margin": null,
            "max_height": null,
            "max_width": null,
            "min_height": null,
            "min_width": null,
            "object_fit": null,
            "object_position": null,
            "order": null,
            "overflow": null,
            "overflow_x": null,
            "overflow_y": null,
            "padding": null,
            "right": null,
            "top": null,
            "visibility": null,
            "width": null
          }
        },
        "a980a801ed7c4687814b913a767c8642": {
          "model_module": "@jupyter-widgets/controls",
          "model_module_version": "1.5.0",
          "model_name": "DescriptionStyleModel",
          "state": {
            "_model_module": "@jupyter-widgets/controls",
            "_model_module_version": "1.5.0",
            "_model_name": "DescriptionStyleModel",
            "_view_count": null,
            "_view_module": "@jupyter-widgets/base",
            "_view_module_version": "1.2.0",
            "_view_name": "StyleView",
            "description_width": ""
          }
        },
        "af43b17a19504f698832081000df6ace": {
          "model_module": "@jupyter-widgets/controls",
          "model_module_version": "1.5.0",
          "model_name": "HBoxModel",
          "state": {
            "_dom_classes": [],
            "_model_module": "@jupyter-widgets/controls",
            "_model_module_version": "1.5.0",
            "_model_name": "HBoxModel",
            "_view_count": null,
            "_view_module": "@jupyter-widgets/controls",
            "_view_module_version": "1.5.0",
            "_view_name": "HBoxView",
            "box_style": "",
            "children": [
              "IPY_MODEL_4e862d18a8d84ed88992b88405785e71",
              "IPY_MODEL_1f63134a8b8c43b4903e451294d49346",
              "IPY_MODEL_b06dda4447194766b4283ee30d484a63"
            ],
            "layout": "IPY_MODEL_c364f07ae0a34bef9f2ecc96f772282d"
          }
        },
        "af60ce07b12141198dcd346e2e4d73de": {
          "model_module": "@jupyter-widgets/base",
          "model_module_version": "1.2.0",
          "model_name": "LayoutModel",
          "state": {
            "_model_module": "@jupyter-widgets/base",
            "_model_module_version": "1.2.0",
            "_model_name": "LayoutModel",
            "_view_count": null,
            "_view_module": "@jupyter-widgets/base",
            "_view_module_version": "1.2.0",
            "_view_name": "LayoutView",
            "align_content": null,
            "align_items": null,
            "align_self": null,
            "border": null,
            "bottom": null,
            "display": null,
            "flex": null,
            "flex_flow": null,
            "grid_area": null,
            "grid_auto_columns": null,
            "grid_auto_flow": null,
            "grid_auto_rows": null,
            "grid_column": null,
            "grid_gap": null,
            "grid_row": null,
            "grid_template_areas": null,
            "grid_template_columns": null,
            "grid_template_rows": null,
            "height": null,
            "justify_content": null,
            "justify_items": null,
            "left": null,
            "margin": null,
            "max_height": null,
            "max_width": null,
            "min_height": null,
            "min_width": null,
            "object_fit": null,
            "object_position": null,
            "order": null,
            "overflow": null,
            "overflow_x": null,
            "overflow_y": null,
            "padding": null,
            "right": null,
            "top": null,
            "visibility": null,
            "width": null
          }
        },
        "b06dda4447194766b4283ee30d484a63": {
          "model_module": "@jupyter-widgets/controls",
          "model_module_version": "1.5.0",
          "model_name": "HTMLModel",
          "state": {
            "_dom_classes": [],
            "_model_module": "@jupyter-widgets/controls",
            "_model_module_version": "1.5.0",
            "_model_name": "HTMLModel",
            "_view_count": null,
            "_view_module": "@jupyter-widgets/controls",
            "_view_module_version": "1.5.0",
            "_view_name": "HTMLView",
            "description": "",
            "description_tooltip": null,
            "layout": "IPY_MODEL_ecfa4a297cfa4b23bad0ef796cfd69c6",
            "placeholder": "​",
            "style": "IPY_MODEL_8bdb548d82394bf691cd2e3b2cfc3072",
            "value": " 4358/4358 [00:00&lt;00:00, 9342.75 examples/s]"
          }
        },
        "b75605b7d13c4072a55432cc9748fb17": {
          "model_module": "@jupyter-widgets/controls",
          "model_module_version": "1.5.0",
          "model_name": "ProgressStyleModel",
          "state": {
            "_model_module": "@jupyter-widgets/controls",
            "_model_module_version": "1.5.0",
            "_model_name": "ProgressStyleModel",
            "_view_count": null,
            "_view_module": "@jupyter-widgets/base",
            "_view_module_version": "1.2.0",
            "_view_name": "StyleView",
            "bar_color": null,
            "description_width": ""
          }
        },
        "baa1a914944449c3b7b38fad52af4edf": {
          "model_module": "@jupyter-widgets/base",
          "model_module_version": "1.2.0",
          "model_name": "LayoutModel",
          "state": {
            "_model_module": "@jupyter-widgets/base",
            "_model_module_version": "1.2.0",
            "_model_name": "LayoutModel",
            "_view_count": null,
            "_view_module": "@jupyter-widgets/base",
            "_view_module_version": "1.2.0",
            "_view_name": "LayoutView",
            "align_content": null,
            "align_items": null,
            "align_self": null,
            "border": null,
            "bottom": null,
            "display": null,
            "flex": null,
            "flex_flow": null,
            "grid_area": null,
            "grid_auto_columns": null,
            "grid_auto_flow": null,
            "grid_auto_rows": null,
            "grid_column": null,
            "grid_gap": null,
            "grid_row": null,
            "grid_template_areas": null,
            "grid_template_columns": null,
            "grid_template_rows": null,
            "height": null,
            "justify_content": null,
            "justify_items": null,
            "left": null,
            "margin": null,
            "max_height": null,
            "max_width": null,
            "min_height": null,
            "min_width": null,
            "object_fit": null,
            "object_position": null,
            "order": null,
            "overflow": null,
            "overflow_x": null,
            "overflow_y": null,
            "padding": null,
            "right": null,
            "top": null,
            "visibility": null,
            "width": null
          }
        },
        "bc1536617bb94d369a0d0e46091f03c5": {
          "model_module": "@jupyter-widgets/base",
          "model_module_version": "1.2.0",
          "model_name": "LayoutModel",
          "state": {
            "_model_module": "@jupyter-widgets/base",
            "_model_module_version": "1.2.0",
            "_model_name": "LayoutModel",
            "_view_count": null,
            "_view_module": "@jupyter-widgets/base",
            "_view_module_version": "1.2.0",
            "_view_name": "LayoutView",
            "align_content": null,
            "align_items": null,
            "align_self": null,
            "border": null,
            "bottom": null,
            "display": null,
            "flex": null,
            "flex_flow": null,
            "grid_area": null,
            "grid_auto_columns": null,
            "grid_auto_flow": null,
            "grid_auto_rows": null,
            "grid_column": null,
            "grid_gap": null,
            "grid_row": null,
            "grid_template_areas": null,
            "grid_template_columns": null,
            "grid_template_rows": null,
            "height": null,
            "justify_content": null,
            "justify_items": null,
            "left": null,
            "margin": null,
            "max_height": null,
            "max_width": null,
            "min_height": null,
            "min_width": null,
            "object_fit": null,
            "object_position": null,
            "order": null,
            "overflow": null,
            "overflow_x": null,
            "overflow_y": null,
            "padding": null,
            "right": null,
            "top": null,
            "visibility": null,
            "width": null
          }
        },
        "c364f07ae0a34bef9f2ecc96f772282d": {
          "model_module": "@jupyter-widgets/base",
          "model_module_version": "1.2.0",
          "model_name": "LayoutModel",
          "state": {
            "_model_module": "@jupyter-widgets/base",
            "_model_module_version": "1.2.0",
            "_model_name": "LayoutModel",
            "_view_count": null,
            "_view_module": "@jupyter-widgets/base",
            "_view_module_version": "1.2.0",
            "_view_name": "LayoutView",
            "align_content": null,
            "align_items": null,
            "align_self": null,
            "border": null,
            "bottom": null,
            "display": null,
            "flex": null,
            "flex_flow": null,
            "grid_area": null,
            "grid_auto_columns": null,
            "grid_auto_flow": null,
            "grid_auto_rows": null,
            "grid_column": null,
            "grid_gap": null,
            "grid_row": null,
            "grid_template_areas": null,
            "grid_template_columns": null,
            "grid_template_rows": null,
            "height": null,
            "justify_content": null,
            "justify_items": null,
            "left": null,
            "margin": null,
            "max_height": null,
            "max_width": null,
            "min_height": null,
            "min_width": null,
            "object_fit": null,
            "object_position": null,
            "order": null,
            "overflow": null,
            "overflow_x": null,
            "overflow_y": null,
            "padding": null,
            "right": null,
            "top": null,
            "visibility": null,
            "width": null
          }
        },
        "c4983d1f02fb47fdbc6cf4330065c436": {
          "model_module": "@jupyter-widgets/controls",
          "model_module_version": "1.5.0",
          "model_name": "HTMLModel",
          "state": {
            "_dom_classes": [],
            "_model_module": "@jupyter-widgets/controls",
            "_model_module_version": "1.5.0",
            "_model_name": "HTMLModel",
            "_view_count": null,
            "_view_module": "@jupyter-widgets/controls",
            "_view_module_version": "1.5.0",
            "_view_name": "HTMLView",
            "description": "",
            "description_tooltip": null,
            "layout": "IPY_MODEL_a456d22298874f8f84c5d0e3ca5d59ee",
            "placeholder": "​",
            "style": "IPY_MODEL_d534511a8813427b83646befdf581d41",
            "value": "Generating validation split: 100%"
          }
        },
        "c4a8f54f1b7f498c96ee4f078a7b5008": {
          "model_module": "@jupyter-widgets/controls",
          "model_module_version": "1.5.0",
          "model_name": "DescriptionStyleModel",
          "state": {
            "_model_module": "@jupyter-widgets/controls",
            "_model_module_version": "1.5.0",
            "_model_name": "DescriptionStyleModel",
            "_view_count": null,
            "_view_module": "@jupyter-widgets/base",
            "_view_module_version": "1.2.0",
            "_view_name": "StyleView",
            "description_width": ""
          }
        },
        "c850e5fef03a4e13868b882eaf1da27f": {
          "model_module": "@jupyter-widgets/base",
          "model_module_version": "1.2.0",
          "model_name": "LayoutModel",
          "state": {
            "_model_module": "@jupyter-widgets/base",
            "_model_module_version": "1.2.0",
            "_model_name": "LayoutModel",
            "_view_count": null,
            "_view_module": "@jupyter-widgets/base",
            "_view_module_version": "1.2.0",
            "_view_name": "LayoutView",
            "align_content": null,
            "align_items": null,
            "align_self": null,
            "border": null,
            "bottom": null,
            "display": null,
            "flex": null,
            "flex_flow": null,
            "grid_area": null,
            "grid_auto_columns": null,
            "grid_auto_flow": null,
            "grid_auto_rows": null,
            "grid_column": null,
            "grid_gap": null,
            "grid_row": null,
            "grid_template_areas": null,
            "grid_template_columns": null,
            "grid_template_rows": null,
            "height": null,
            "justify_content": null,
            "justify_items": null,
            "left": null,
            "margin": null,
            "max_height": null,
            "max_width": null,
            "min_height": null,
            "min_width": null,
            "object_fit": null,
            "object_position": null,
            "order": null,
            "overflow": null,
            "overflow_x": null,
            "overflow_y": null,
            "padding": null,
            "right": null,
            "top": null,
            "visibility": null,
            "width": null
          }
        },
        "cab3d91830704ed0b132f3a9aeec6b48": {
          "model_module": "@jupyter-widgets/base",
          "model_module_version": "1.2.0",
          "model_name": "LayoutModel",
          "state": {
            "_model_module": "@jupyter-widgets/base",
            "_model_module_version": "1.2.0",
            "_model_name": "LayoutModel",
            "_view_count": null,
            "_view_module": "@jupyter-widgets/base",
            "_view_module_version": "1.2.0",
            "_view_name": "LayoutView",
            "align_content": null,
            "align_items": null,
            "align_self": null,
            "border": null,
            "bottom": null,
            "display": null,
            "flex": null,
            "flex_flow": null,
            "grid_area": null,
            "grid_auto_columns": null,
            "grid_auto_flow": null,
            "grid_auto_rows": null,
            "grid_column": null,
            "grid_gap": null,
            "grid_row": null,
            "grid_template_areas": null,
            "grid_template_columns": null,
            "grid_template_rows": null,
            "height": null,
            "justify_content": null,
            "justify_items": null,
            "left": null,
            "margin": null,
            "max_height": null,
            "max_width": null,
            "min_height": null,
            "min_width": null,
            "object_fit": null,
            "object_position": null,
            "order": null,
            "overflow": null,
            "overflow_x": null,
            "overflow_y": null,
            "padding": null,
            "right": null,
            "top": null,
            "visibility": null,
            "width": null
          }
        },
        "d534511a8813427b83646befdf581d41": {
          "model_module": "@jupyter-widgets/controls",
          "model_module_version": "1.5.0",
          "model_name": "DescriptionStyleModel",
          "state": {
            "_model_module": "@jupyter-widgets/controls",
            "_model_module_version": "1.5.0",
            "_model_name": "DescriptionStyleModel",
            "_view_count": null,
            "_view_module": "@jupyter-widgets/base",
            "_view_module_version": "1.2.0",
            "_view_name": "StyleView",
            "description_width": ""
          }
        },
        "da3124286d7941c1806254b6e6523d4c": {
          "model_module": "@jupyter-widgets/controls",
          "model_module_version": "1.5.0",
          "model_name": "FloatProgressModel",
          "state": {
            "_dom_classes": [],
            "_model_module": "@jupyter-widgets/controls",
            "_model_module_version": "1.5.0",
            "_model_name": "FloatProgressModel",
            "_view_count": null,
            "_view_module": "@jupyter-widgets/controls",
            "_view_module_version": "1.5.0",
            "_view_name": "ProgressView",
            "bar_style": "success",
            "description": "",
            "description_tooltip": null,
            "layout": "IPY_MODEL_a09b5fdbd49a4c5ebd28cdb630a6a397",
            "max": 617738,
            "min": 0,
            "orientation": "horizontal",
            "style": "IPY_MODEL_dc19f5d23f8b41c8b6b1b3f552fadbd9",
            "value": 617738
          }
        },
        "da67b0d324e24426bd550da019aee4e0": {
          "model_module": "@jupyter-widgets/controls",
          "model_module_version": "1.5.0",
          "model_name": "HBoxModel",
          "state": {
            "_dom_classes": [],
            "_model_module": "@jupyter-widgets/controls",
            "_model_module_version": "1.5.0",
            "_model_name": "HBoxModel",
            "_view_count": null,
            "_view_module": "@jupyter-widgets/controls",
            "_view_module_version": "1.5.0",
            "_view_name": "HBoxView",
            "box_style": "",
            "children": [
              "IPY_MODEL_c4983d1f02fb47fdbc6cf4330065c436",
              "IPY_MODEL_9dbbd8f48e674f389c8f92be86044b35",
              "IPY_MODEL_650f889f6efb417f8437af8735f2c067"
            ],
            "layout": "IPY_MODEL_96e4cbb0e9a04f328a3e82194ab36404"
          }
        },
        "dc19f5d23f8b41c8b6b1b3f552fadbd9": {
          "model_module": "@jupyter-widgets/controls",
          "model_module_version": "1.5.0",
          "model_name": "ProgressStyleModel",
          "state": {
            "_model_module": "@jupyter-widgets/controls",
            "_model_module_version": "1.5.0",
            "_model_name": "ProgressStyleModel",
            "_view_count": null,
            "_view_module": "@jupyter-widgets/base",
            "_view_module_version": "1.2.0",
            "_view_name": "StyleView",
            "bar_color": null,
            "description_width": ""
          }
        },
        "e0d4d50238ad4f9399b08324e86fc1db": {
          "model_module": "@jupyter-widgets/controls",
          "model_module_version": "1.5.0",
          "model_name": "HTMLModel",
          "state": {
            "_dom_classes": [],
            "_model_module": "@jupyter-widgets/controls",
            "_model_module_version": "1.5.0",
            "_model_name": "HTMLModel",
            "_view_count": null,
            "_view_module": "@jupyter-widgets/controls",
            "_view_module_version": "1.5.0",
            "_view_name": "HTMLView",
            "description": "",
            "description_tooltip": null,
            "layout": "IPY_MODEL_a87071aa91664438944d5af29808c17f",
            "placeholder": "​",
            "style": "IPY_MODEL_97730cf79fd54ebc8e168ffad3c93b1c",
            "value": "validation-00000-of-00001.parquet: 100%"
          }
        },
        "e43825e1770c4fee9f7f460ac1f2c29b": {
          "model_module": "@jupyter-widgets/controls",
          "model_module_version": "1.5.0",
          "model_name": "HBoxModel",
          "state": {
            "_dom_classes": [],
            "_model_module": "@jupyter-widgets/controls",
            "_model_module_version": "1.5.0",
            "_model_name": "HBoxModel",
            "_view_count": null,
            "_view_module": "@jupyter-widgets/controls",
            "_view_module_version": "1.5.0",
            "_view_name": "HBoxView",
            "box_style": "",
            "children": [
              "IPY_MODEL_37bf8cbb4b77495b9cecd164135603bf",
              "IPY_MODEL_9d030c98567e427b8253e048133e4988",
              "IPY_MODEL_f5675e7be1834f9c906261d343b099ec"
            ],
            "layout": "IPY_MODEL_2998863008ab47199b1d03b753a61d3d"
          }
        },
        "e81859fad9d54c279248c6eed1201bc8": {
          "model_module": "@jupyter-widgets/controls",
          "model_module_version": "1.5.0",
          "model_name": "HTMLModel",
          "state": {
            "_dom_classes": [],
            "_model_module": "@jupyter-widgets/controls",
            "_model_module_version": "1.5.0",
            "_model_name": "HTMLModel",
            "_view_count": null,
            "_view_module": "@jupyter-widgets/controls",
            "_view_module_version": "1.5.0",
            "_view_name": "HTMLView",
            "description": "",
            "description_tooltip": null,
            "layout": "IPY_MODEL_551e7041dd514a85b0c354ad9142e871",
            "placeholder": "​",
            "style": "IPY_MODEL_a980a801ed7c4687814b913a767c8642",
            "value": " 10.5k/10.5k [00:00&lt;00:00, 259kB/s]"
          }
        },
        "ecfa4a297cfa4b23bad0ef796cfd69c6": {
          "model_module": "@jupyter-widgets/base",
          "model_module_version": "1.2.0",
          "model_name": "LayoutModel",
          "state": {
            "_model_module": "@jupyter-widgets/base",
            "_model_module_version": "1.2.0",
            "_model_name": "LayoutModel",
            "_view_count": null,
            "_view_module": "@jupyter-widgets/base",
            "_view_module_version": "1.2.0",
            "_view_name": "LayoutView",
            "align_content": null,
            "align_items": null,
            "align_self": null,
            "border": null,
            "bottom": null,
            "display": null,
            "flex": null,
            "flex_flow": null,
            "grid_area": null,
            "grid_auto_columns": null,
            "grid_auto_flow": null,
            "grid_auto_rows": null,
            "grid_column": null,
            "grid_gap": null,
            "grid_row": null,
            "grid_template_areas": null,
            "grid_template_columns": null,
            "grid_template_rows": null,
            "height": null,
            "justify_content": null,
            "justify_items": null,
            "left": null,
            "margin": null,
            "max_height": null,
            "max_width": null,
            "min_height": null,
            "min_width": null,
            "object_fit": null,
            "object_position": null,
            "order": null,
            "overflow": null,
            "overflow_x": null,
            "overflow_y": null,
            "padding": null,
            "right": null,
            "top": null,
            "visibility": null,
            "width": null
          }
        },
        "edc5e19256d748af8c91cb22f7532e42": {
          "model_module": "@jupyter-widgets/controls",
          "model_module_version": "1.5.0",
          "model_name": "ProgressStyleModel",
          "state": {
            "_model_module": "@jupyter-widgets/controls",
            "_model_module_version": "1.5.0",
            "_model_name": "ProgressStyleModel",
            "_view_count": null,
            "_view_module": "@jupyter-widgets/base",
            "_view_module_version": "1.2.0",
            "_view_name": "StyleView",
            "bar_color": null,
            "description_width": ""
          }
        },
        "ef1e1c29070f4cbe89524a9dccae258a": {
          "model_module": "@jupyter-widgets/base",
          "model_module_version": "1.2.0",
          "model_name": "LayoutModel",
          "state": {
            "_model_module": "@jupyter-widgets/base",
            "_model_module_version": "1.2.0",
            "_model_name": "LayoutModel",
            "_view_count": null,
            "_view_module": "@jupyter-widgets/base",
            "_view_module_version": "1.2.0",
            "_view_name": "LayoutView",
            "align_content": null,
            "align_items": null,
            "align_self": null,
            "border": null,
            "bottom": null,
            "display": null,
            "flex": null,
            "flex_flow": null,
            "grid_area": null,
            "grid_auto_columns": null,
            "grid_auto_flow": null,
            "grid_auto_rows": null,
            "grid_column": null,
            "grid_gap": null,
            "grid_row": null,
            "grid_template_areas": null,
            "grid_template_columns": null,
            "grid_template_rows": null,
            "height": null,
            "justify_content": null,
            "justify_items": null,
            "left": null,
            "margin": null,
            "max_height": null,
            "max_width": null,
            "min_height": null,
            "min_width": null,
            "object_fit": null,
            "object_position": null,
            "order": null,
            "overflow": null,
            "overflow_x": null,
            "overflow_y": null,
            "padding": null,
            "right": null,
            "top": null,
            "visibility": null,
            "width": null
          }
        },
        "f37e850073c348209435df8a536b2c80": {
          "model_module": "@jupyter-widgets/controls",
          "model_module_version": "1.5.0",
          "model_name": "FloatProgressModel",
          "state": {
            "_dom_classes": [],
            "_model_module": "@jupyter-widgets/controls",
            "_model_module_version": "1.5.0",
            "_model_name": "FloatProgressModel",
            "_view_count": null,
            "_view_module": "@jupyter-widgets/controls",
            "_view_module_version": "1.5.0",
            "_view_name": "ProgressView",
            "bar_style": "success",
            "description": "",
            "description_tooltip": null,
            "layout": "IPY_MODEL_9db5367242e7443498020f1bd4f47b90",
            "max": 685430,
            "min": 0,
            "orientation": "horizontal",
            "style": "IPY_MODEL_b75605b7d13c4072a55432cc9748fb17",
            "value": 685430
          }
        },
        "f5675e7be1834f9c906261d343b099ec": {
          "model_module": "@jupyter-widgets/controls",
          "model_module_version": "1.5.0",
          "model_name": "HTMLModel",
          "state": {
            "_dom_classes": [],
            "_model_module": "@jupyter-widgets/controls",
            "_model_module_version": "1.5.0",
            "_model_name": "HTMLModel",
            "_view_count": null,
            "_view_module": "@jupyter-widgets/controls",
            "_view_module_version": "1.5.0",
            "_view_name": "HTMLView",
            "description": "",
            "description_tooltip": null,
            "layout": "IPY_MODEL_5bc84dae805b4faa9e47fa13b2941873",
            "placeholder": "​",
            "style": "IPY_MODEL_0de2c36efd354cb098436c7cd2d7c576",
            "value": " 6.07M/6.07M [00:00&lt;00:00, 38.5MB/s]"
          }
        },
        "f5867cbe94a64ee6b964b00f2218b1d4": {
          "model_module": "@jupyter-widgets/controls",
          "model_module_version": "1.5.0",
          "model_name": "HTMLModel",
          "state": {
            "_dom_classes": [],
            "_model_module": "@jupyter-widgets/controls",
            "_model_module_version": "1.5.0",
            "_model_name": "HTMLModel",
            "_view_count": null,
            "_view_module": "@jupyter-widgets/controls",
            "_view_module_version": "1.5.0",
            "_view_name": "HTMLView",
            "description": "",
            "description_tooltip": null,
            "layout": "IPY_MODEL_ef1e1c29070f4cbe89524a9dccae258a",
            "placeholder": "​",
            "style": "IPY_MODEL_64d0df5bac444529833be96361cb90e0",
            "value": " 36718/36718 [00:00&lt;00:00, 202499.97 examples/s]"
          }
        },
        "f5f2147defc9454fb7b82ca5e397e47b": {
          "model_module": "@jupyter-widgets/controls",
          "model_module_version": "1.5.0",
          "model_name": "FloatProgressModel",
          "state": {
            "_dom_classes": [],
            "_model_module": "@jupyter-widgets/controls",
            "_model_module_version": "1.5.0",
            "_model_name": "FloatProgressModel",
            "_view_count": null,
            "_view_module": "@jupyter-widgets/controls",
            "_view_module_version": "1.5.0",
            "_view_name": "ProgressView",
            "bar_style": "success",
            "description": "",
            "description_tooltip": null,
            "layout": "IPY_MODEL_a6d2d6a7f4624b2792480053af977834",
            "max": 10464,
            "min": 0,
            "orientation": "horizontal",
            "style": "IPY_MODEL_3f3f8ce68b1247bbb2af1ef8b1cf04db",
            "value": 10464
          }
        }
      }
    }
  },
  "nbformat": 4,
  "nbformat_minor": 0
}
